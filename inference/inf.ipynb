{
 "cells": [
  {
   "cell_type": "code",
   "execution_count": 1,
   "metadata": {},
   "outputs": [],
   "source": [
    "import os\n",
    "import sys\n",
    "\n",
    "sys.path.append('../')\n",
    "\n",
    "\n",
    "import warnings\n",
    "\n",
    "warnings.filterwarnings(\"ignore\")\n",
    "\n",
    "import json\n",
    "from pathlib import Path\n",
    "from typing import Dict\n",
    "import random\n",
    "\n",
    "import click\n",
    "import datasets\n",
    "import numpy as np\n",
    "import torch\n",
    "import torch.nn.functional as F\n",
    "import transformers\n",
    "import yaml\n",
    "from accelerate import Accelerator\n",
    "from accelerate.utils import set_seed, tqdm\n",
    "from datasets import Dataset, DatasetDict\n",
    "from torch.utils.data import DataLoader\n",
    "from transformers import AdamW\n",
    "\n",
    "from config_utils.load_config import (\n",
    "    DataParamsSchema,\n",
    "    ModelParamsSchema,\n",
    "    TrainParamsSchema,\n",
    "    load_params_from_yaml,\n",
    ")\n",
    "\n",
    "from model.model_main import MoETransformerEncoder\n",
    "from train.train_utils.data import PrepareDataloader, PrepareDataset\n",
    "from train.train_utils.gate import (\n",
    "    process_gate_response,\n",
    "    calculate_loss_accuracy,\n",
    "    epoch_gates_cat,\n",
    ")\n",
    "\n",
    "\n",
    "from model.model_main import MoETransformerEncoder\n",
    "\n",
    "import transformers"
   ]
  },
  {
   "cell_type": "code",
   "execution_count": 2,
   "metadata": {},
   "outputs": [],
   "source": [
    "model_params = load_params_from_yaml(\"model_params.yaml\", ModelParamsSchema)\n",
    "loaded_params = load_params_from_yaml(\"dataset_params.yaml\", DataParamsSchema)\n",
    "train_params = load_params_from_yaml(\"train_params.yaml\", TrainParamsSchema)\n",
    "\n",
    "\n",
    "subreddit1_loaded = torch.load(\"../data/masked/programming.pt\")\n",
    "subreddit2_loaded = torch.load(\"../data/masked/gaming.pt\")"
   ]
  },
  {
   "cell_type": "code",
   "execution_count": 3,
   "metadata": {},
   "outputs": [],
   "source": [
    "dataset = PrepareDataset(\n",
    "        subreddit1_loaded,\n",
    "        subreddit2_loaded,\n",
    "    )\n",
    "\n",
    "programming_dataloader, gaming_dataloader = PrepareDataloader(dataset, train_params)"
   ]
  },
  {
   "cell_type": "code",
   "execution_count": 4,
   "metadata": {},
   "outputs": [
    {
     "data": {
      "text/plain": [
       "DatasetDict({\n",
       "    train: Dataset({\n",
       "        features: ['input_ids', 'attention_mask', 'labels'],\n",
       "        num_rows: 465\n",
       "    })\n",
       "    val: Dataset({\n",
       "        features: ['input_ids', 'attention_mask', 'labels'],\n",
       "        num_rows: 1000\n",
       "    })\n",
       "})"
      ]
     },
     "execution_count": 4,
     "metadata": {},
     "output_type": "execute_result"
    }
   ],
   "source": [
    "dataset"
   ]
  },
  {
   "cell_type": "code",
   "execution_count": 12,
   "metadata": {},
   "outputs": [
    {
     "data": {
      "text/plain": [
       "MoETransformerEncoder(\n",
       "  (input_emb): InputEmbedding(\n",
       "    (input_embedding): Embedding(30522, 256)\n",
       "    (positional_encoding): PositionalEncoding()\n",
       "  )\n",
       "  (moe_transformer): Sequential(\n",
       "    (0): EncoderBlock(\n",
       "      (multi_head_attention): MultiHeadAttention_Parallel(\n",
       "        (key): Linear(in_features=256, out_features=4096, bias=False)\n",
       "        (query): Linear(in_features=256, out_features=4096, bias=False)\n",
       "        (value): Linear(in_features=256, out_features=4096, bias=False)\n",
       "        (dropout): Dropout(p=0.1, inplace=False)\n",
       "        (proj): Linear(in_features=4096, out_features=256, bias=True)\n",
       "      )\n",
       "      (layer_norm1): LayerNorm()\n",
       "      (layer_norm2): LayerNorm()\n",
       "      (moe_block): MoELayer(\n",
       "        (gate): Linear(in_features=256, out_features=4, bias=False)\n",
       "        (experts): ModuleList(\n",
       "          (0-3): 4 x PositionwiseFeedForward(\n",
       "            (linear1): Linear(in_features=256, out_features=512, bias=True)\n",
       "            (linear2): Linear(in_features=512, out_features=256, bias=True)\n",
       "            (relu): ReLU()\n",
       "            (dropout): Dropout(p=0.1, inplace=False)\n",
       "          )\n",
       "        )\n",
       "      )\n",
       "    )\n",
       "    (1): EncoderBlock(\n",
       "      (multi_head_attention): MultiHeadAttention_Parallel(\n",
       "        (key): Linear(in_features=256, out_features=4096, bias=False)\n",
       "        (query): Linear(in_features=256, out_features=4096, bias=False)\n",
       "        (value): Linear(in_features=256, out_features=4096, bias=False)\n",
       "        (dropout): Dropout(p=0.1, inplace=False)\n",
       "        (proj): Linear(in_features=4096, out_features=256, bias=True)\n",
       "      )\n",
       "      (layer_norm1): LayerNorm()\n",
       "      (layer_norm2): LayerNorm()\n",
       "      (moe_block): MoELayer(\n",
       "        (gate): Linear(in_features=256, out_features=4, bias=False)\n",
       "        (experts): ModuleList(\n",
       "          (0-3): 4 x PositionwiseFeedForward(\n",
       "            (linear1): Linear(in_features=256, out_features=512, bias=True)\n",
       "            (linear2): Linear(in_features=512, out_features=256, bias=True)\n",
       "            (relu): ReLU()\n",
       "            (dropout): Dropout(p=0.1, inplace=False)\n",
       "          )\n",
       "        )\n",
       "      )\n",
       "    )\n",
       "    (2): EncoderBlock(\n",
       "      (multi_head_attention): MultiHeadAttention_Parallel(\n",
       "        (key): Linear(in_features=256, out_features=4096, bias=False)\n",
       "        (query): Linear(in_features=256, out_features=4096, bias=False)\n",
       "        (value): Linear(in_features=256, out_features=4096, bias=False)\n",
       "        (dropout): Dropout(p=0.1, inplace=False)\n",
       "        (proj): Linear(in_features=4096, out_features=256, bias=True)\n",
       "      )\n",
       "      (layer_norm1): LayerNorm()\n",
       "      (layer_norm2): LayerNorm()\n",
       "      (moe_block): MoELayer(\n",
       "        (gate): Linear(in_features=256, out_features=4, bias=False)\n",
       "        (experts): ModuleList(\n",
       "          (0-3): 4 x PositionwiseFeedForward(\n",
       "            (linear1): Linear(in_features=256, out_features=512, bias=True)\n",
       "            (linear2): Linear(in_features=512, out_features=256, bias=True)\n",
       "            (relu): ReLU()\n",
       "            (dropout): Dropout(p=0.1, inplace=False)\n",
       "          )\n",
       "        )\n",
       "      )\n",
       "    )\n",
       "  )\n",
       "  (lm_head): Linear(in_features=256, out_features=30522, bias=True)\n",
       ")"
      ]
     },
     "execution_count": 12,
     "metadata": {},
     "output_type": "execute_result"
    }
   ],
   "source": [
    "model = MoETransformerEncoder(**model_params.__dict__)\n",
    "weights = torch.load(\"moe_model.pth\",  map_location=torch.device('cpu'))\n",
    "model.load_state_dict(weights)\n",
    "model"
   ]
  },
  {
   "cell_type": "code",
   "execution_count": 13,
   "metadata": {},
   "outputs": [],
   "source": [
    "device = torch.device(\"mps\")\n",
    "model = model.to(device)"
   ]
  },
  {
   "cell_type": "code",
   "execution_count": 15,
   "metadata": {},
   "outputs": [],
   "source": [
    "from transformers import BertTokenizerFast\n",
    "\n",
    "tokenizer = BertTokenizerFast.from_pretrained(loaded_params.data_params.tokenizer_name)"
   ]
  },
  {
   "cell_type": "code",
   "execution_count": 74,
   "metadata": {},
   "outputs": [
    {
     "name": "stderr",
     "output_type": "stream",
     "text": [
      "Eval:   7%|▋         | 1/15 [00:00<00:13,  1.06it/s]"
     ]
    },
    {
     "name": "stdout",
     "output_type": "stream",
     "text": [
      "torch.Size([32, 64])\n",
      "tensor(5.3348, device='mps:0') 0.19112627986348124\n",
      "torch.Size([32, 64])\n"
     ]
    },
    {
     "name": "stderr",
     "output_type": "stream",
     "text": [
      "Eval:  13%|█▎        | 2/15 [00:01<00:09,  1.34it/s]"
     ]
    },
    {
     "name": "stdout",
     "output_type": "stream",
     "text": [
      "tensor(5.7856, device='mps:0') 0.15579710144927536\n"
     ]
    },
    {
     "name": "stderr",
     "output_type": "stream",
     "text": [
      "Eval:  20%|██        | 3/15 [00:02<00:08,  1.48it/s]"
     ]
    },
    {
     "name": "stdout",
     "output_type": "stream",
     "text": [
      "torch.Size([32, 64])\n",
      "tensor(5.3329, device='mps:0') 0.1828358208955224\n"
     ]
    },
    {
     "name": "stderr",
     "output_type": "stream",
     "text": [
      "Eval:  27%|██▋       | 4/15 [00:02<00:05,  1.95it/s]"
     ]
    },
    {
     "name": "stdout",
     "output_type": "stream",
     "text": [
      "torch.Size([32, 64])\n",
      "tensor(5.6993, device='mps:0') 0.14982578397212543\n"
     ]
    },
    {
     "name": "stderr",
     "output_type": "stream",
     "text": [
      "Eval:  33%|███▎      | 5/15 [00:02<00:04,  2.27it/s]"
     ]
    },
    {
     "name": "stdout",
     "output_type": "stream",
     "text": [
      "torch.Size([32, 64])\n",
      "tensor(5.4750, device='mps:0') 0.15555555555555556\n"
     ]
    },
    {
     "name": "stderr",
     "output_type": "stream",
     "text": [
      "Eval:  40%|████      | 6/15 [00:03<00:03,  2.52it/s]"
     ]
    },
    {
     "name": "stdout",
     "output_type": "stream",
     "text": [
      "torch.Size([32, 64])\n",
      "tensor(5.5392, device='mps:0') 0.21305841924398625\n"
     ]
    },
    {
     "name": "stderr",
     "output_type": "stream",
     "text": [
      "Eval:  47%|████▋     | 7/15 [00:03<00:02,  2.79it/s]"
     ]
    },
    {
     "name": "stdout",
     "output_type": "stream",
     "text": [
      "torch.Size([32, 64])\n",
      "tensor(5.5864, device='mps:0') 0.1634980988593156\n"
     ]
    },
    {
     "name": "stderr",
     "output_type": "stream",
     "text": [
      "Eval:  53%|█████▎    | 8/15 [00:03<00:02,  3.07it/s]"
     ]
    },
    {
     "name": "stdout",
     "output_type": "stream",
     "text": [
      "torch.Size([32, 64])\n",
      "tensor(5.5172, device='mps:0') 0.18518518518518517\n"
     ]
    },
    {
     "name": "stderr",
     "output_type": "stream",
     "text": [
      "Eval:  60%|██████    | 9/15 [00:04<00:02,  2.74it/s]"
     ]
    },
    {
     "name": "stdout",
     "output_type": "stream",
     "text": [
      "torch.Size([32, 64])\n",
      "tensor(5.2822, device='mps:0') 0.21660649819494585\n"
     ]
    },
    {
     "name": "stderr",
     "output_type": "stream",
     "text": [
      "Eval:  67%|██████▋   | 10/15 [00:04<00:01,  2.99it/s]"
     ]
    },
    {
     "name": "stdout",
     "output_type": "stream",
     "text": [
      "torch.Size([32, 64])\n",
      "tensor(5.7603, device='mps:0') 0.14776632302405499\n",
      "torch.Size([32, 64])\n"
     ]
    },
    {
     "name": "stderr",
     "output_type": "stream",
     "text": [
      "Eval:  73%|███████▎  | 11/15 [00:04<00:01,  2.28it/s]"
     ]
    },
    {
     "name": "stdout",
     "output_type": "stream",
     "text": [
      "tensor(5.6532, device='mps:0') 0.15384615384615385\n",
      "torch.Size([32, 64])\n"
     ]
    },
    {
     "name": "stderr",
     "output_type": "stream",
     "text": [
      "Eval:  80%|████████  | 12/15 [00:05<00:01,  2.57it/s]"
     ]
    },
    {
     "name": "stdout",
     "output_type": "stream",
     "text": [
      "tensor(5.6027, device='mps:0') 0.174496644295302\n",
      "torch.Size([32, 64])\n"
     ]
    },
    {
     "name": "stderr",
     "output_type": "stream",
     "text": [
      "Eval:  87%|████████▋ | 13/15 [00:05<00:00,  2.87it/s]"
     ]
    },
    {
     "name": "stdout",
     "output_type": "stream",
     "text": [
      "tensor(5.8274, device='mps:0') 0.1872791519434629\n",
      "torch.Size([32, 64])\n"
     ]
    },
    {
     "name": "stderr",
     "output_type": "stream",
     "text": [
      "Eval:  93%|█████████▎| 14/15 [00:05<00:00,  3.06it/s]"
     ]
    },
    {
     "name": "stdout",
     "output_type": "stream",
     "text": [
      "tensor(5.5191, device='mps:0') 0.19413919413919414\n",
      "torch.Size([17, 64])\n"
     ]
    },
    {
     "name": "stderr",
     "output_type": "stream",
     "text": [
      "Eval: 100%|██████████| 15/15 [00:06<00:00,  2.22it/s]"
     ]
    },
    {
     "name": "stdout",
     "output_type": "stream",
     "text": [
      "tensor(5.6105, device='mps:0') 0.14965986394557823\n"
     ]
    },
    {
     "name": "stderr",
     "output_type": "stream",
     "text": [
      "\n"
     ]
    }
   ],
   "source": [
    "model.eval()\n",
    "with tqdm(\n",
    "    desc=\"Eval\", total=len(programming_dataloader), dynamic_ncols=True\n",
    ") as eval_pbar:\n",
    "    epoch_gates_stats_val = torch.tensor([]).to(model_params.device)\n",
    "    with torch.no_grad():\n",
    "        for eval_batch in programming_dataloader:\n",
    "            input_ids, attention_mask, labels = (\n",
    "                eval_batch[\"input_ids\"].to(device),\n",
    "                eval_batch[\"attention_mask\"].to(device),\n",
    "                eval_batch[\"labels\"].to(device),\n",
    "            )\n",
    "            output, gate_respond_val = model(input_ids)\n",
    "\n",
    "            # mask = (input_ids == 103)\n",
    "            # masked_targets = torch.full_like(labels, -1, dtype=torch.long, device=device)\n",
    "            # masked_targets[mask] = labels[mask]\n",
    "            # masked_targets = masked_targets.view(-1)\n",
    "            # output_ = output.view(-1, output.size(-1))\n",
    "            # print(mask.shape, masked_targets.shape, output_.shape, loss)\n",
    "            # loss = F.cross_entropy(output_, masked_targets, ignore_index=-1)\n",
    "\n",
    "            # # Декодируем входные токены\n",
    "            # decoded_inputs = [tokenizer.decode(ids, skip_special_tokens=True) for ids in input_ids]\n",
    "            # # Декодируем предсказанные токены\n",
    "            # predicted_ids = torch.argmax(output.view(-1, output.size(-1)), dim=-1)  # Получаем предсказанные токены\n",
    "            # predicted_ids = predicted_ids.view(-1, 64)  # Преобразуем обратно в [batch_size, max_len]\n",
    "            # decoded_predictions = [tokenizer.decode(ids, skip_special_tokens=True) for ids in predicted_ids]\n",
    "\n",
    "            # print(decoded_predictions)\n",
    "            # print(decoded_inputs)\n",
    "\n",
    "            # print(\"-\" * 40)\n",
    "\n",
    "            # Выводим результаты\n",
    "            # for i in range(len(decoded_inputs)):\n",
    "            #     print(f\"Input: {decoded_inputs[i]}\")\n",
    "            #     print(f\"Predicted: {decoded_predictions[i]}\")\n",
    "            #     print(\"-\" * 40)\n",
    "\n",
    "\n",
    "            # mask = torch.full_like(labels, -1, device=device)\n",
    "            # for i in range(labels.size(0)):\n",
    "            #     index_eq = ((input_ids[i] == 103).int()).nonzero(as_tuple=True)[0] \n",
    "            #     mask[i, :index_eq + 1] = True\n",
    "            #     masked_targets = labels.masked_fill(mask, 0)\n",
    "\n",
    "            # print(masked_targets.shape)\n",
    "\n",
    "            mask = input_ids == train_params.tokenizer_mask_id\n",
    "            print(mask.shape)\n",
    "            masked_output = output[mask]\n",
    "            masked_labels = labels[mask]\n",
    "\n",
    "            # print(masked_output.shape, masked_labels.shape, output.shape, labels.shape)\n",
    "\n",
    "            loss = F.cross_entropy(masked_output, masked_labels)\n",
    "            _, predicted = torch.max(masked_output, dim=-1)\n",
    "            # print(predicted.shape, masked_labels.shape)\n",
    "            # predicted_decoded, labels_decoded = tokenizer.decode(predicted), tokenizer.decode(masked_labels)\n",
    "\n",
    "            predicted_decoded = [tokenizer.decode(tok) for tok in predicted]\n",
    "            labels_decoded = [tokenizer.decode(tok) for tok in masked_labels]\n",
    "\n",
    "            # for i in range(10):\n",
    "            #     print(\"PRED\", predicted_decoded[i], \"REAL\", labels_decoded[i])\n",
    "            # # print(predicted_decoded)\n",
    "            # # print(labels_decoded)\n",
    "            # print(\"-\" * 40)\n",
    "\n",
    "            # print(\"BATCH\", '\\n\\n')\n",
    "            # for i in range(5):\n",
    "            #     print(\"PRED\", predicted_decoded[i], \"REAL\", labels_decoded[i])\n",
    "\n",
    "            # print(predicted_decoded)\n",
    "            # print(labels_decoded)\n",
    "            # correct_predictions = (predicted == masked_labels).sum().item()\n",
    "            # total_predictions = masked_labels.size(0)\n",
    "            # accuracy = correct_predictions / total_predictions if total_predictions > 0 else 0.0\n",
    "\n",
    "            # # print(output.shape, gate_respond_val.shape)\n",
    "\n",
    "            epoch_gates_stats_val = process_gate_response(\n",
    "                epoch_gates_stats_val,\n",
    "                gate_respond_val,\n",
    "                train_params,\n",
    "                model_params,\n",
    "            )\n",
    "\n",
    "            loss, accuracy = calculate_loss_accuracy(input_ids, output, labels, train_params)\n",
    "            print(loss, accuracy)\n",
    "\n",
    "            eval_pbar.update(1)"
   ]
  },
  {
   "cell_type": "code",
   "execution_count": 77,
   "metadata": {},
   "outputs": [
    {
     "data": {
      "text/plain": [
       "torch.Size([45, 32, 64])"
      ]
     },
     "execution_count": 77,
     "metadata": {},
     "output_type": "execute_result"
    }
   ],
   "source": [
    "epoch_gates_stats_val.shape"
   ]
  },
  {
   "cell_type": "code",
   "execution_count": 78,
   "metadata": {},
   "outputs": [],
   "source": [
    "import pandas as pd\n",
    "import matplotlib.pyplot as plt"
   ]
  },
  {
   "cell_type": "code",
   "execution_count": 79,
   "metadata": {},
   "outputs": [],
   "source": [
    "d = [int(i) for i in epoch_gates_stats_val.flatten().cpu()]\n",
    "\n",
    "while -1 in d:\n",
    "    d.remove(-1)"
   ]
  },
  {
   "cell_type": "code",
   "execution_count": 80,
   "metadata": {},
   "outputs": [
    {
     "data": {
      "text/plain": [
       "Text(0.5, 1.0, 'programming')"
      ]
     },
     "execution_count": 80,
     "metadata": {},
     "output_type": "execute_result"
    },
    {
     "data": {
      "image/png": "[encoded data removed]",
      "text/plain": [
       "<Figure size 640x480 with 1 Axes>"
      ]
     },
     "metadata": {},
     "output_type": "display_data"
    }
   ],
   "source": [
    "plt.hist(d)\n",
    "plt.xticks(list(set(d)))\n",
    "plt.title('programming')"
   ]
  },
  {
   "cell_type": "code",
   "execution_count": 82,
   "metadata": {},
   "outputs": [],
   "source": [
    "epoch_gate_stats_val_1 = epoch_gates_stats_val[::3]\n",
    "epoch_gate_stats_val_2 = epoch_gates_stats_val[1::3]\n",
    "epoch_gate_stats_val_3 = epoch_gates_stats_val[2::3]\n",
    "\n",
    "d1 = [int(i) for i in epoch_gate_stats_val_1.flatten().cpu()]\n",
    "\n",
    "while -1 in d1:\n",
    "    d1.remove(-1)\n",
    "\n",
    "d2 = [int(i) for i in epoch_gate_stats_val_2.flatten().cpu()]\n",
    "\n",
    "while -1 in d2:\n",
    "    d2.remove(-1)\n",
    "\n",
    "d3 = [int(i) for i in epoch_gate_stats_val_3.flatten().cpu()]\n",
    "\n",
    "while -1 in d3:\n",
    "    d3.remove(-1)"
   ]
  },
  {
   "cell_type": "code",
   "execution_count": 83,
   "metadata": {},
   "outputs": [
    {
     "data": {
      "text/plain": [
       "Text(0.5, 1.0, 'programming_1 block')"
      ]
     },
     "execution_count": 83,
     "metadata": {},
     "output_type": "execute_result"
    },
    {
     "data": {
      "image/png": "[encoded data removed]",
      "text/plain": [
       "<Figure size 640x480 with 1 Axes>"
      ]
     },
     "metadata": {},
     "output_type": "display_data"
    }
   ],
   "source": [
    "plt.hist(d1)\n",
    "plt.xticks(list(set(d1)))\n",
    "plt.title('programming_1 block')"
   ]
  },
  {
   "cell_type": "code",
   "execution_count": 84,
   "metadata": {},
   "outputs": [
    {
     "data": {
      "text/plain": [
       "Text(0.5, 1.0, 'programming_2 block')"
      ]
     },
     "execution_count": 84,
     "metadata": {},
     "output_type": "execute_result"
    },
    {
     "data": {
      "image/png": "[encoded data removed]",
      "text/plain": [
       "<Figure size 640x480 with 1 Axes>"
      ]
     },
     "metadata": {},
     "output_type": "display_data"
    }
   ],
   "source": [
    "plt.hist(d2)\n",
    "plt.xticks(list(set(d2)))\n",
    "plt.title('programming_2 block')"
   ]
  },
  {
   "cell_type": "code",
   "execution_count": 85,
   "metadata": {},
   "outputs": [
    {
     "data": {
      "text/plain": [
       "Text(0.5, 1.0, 'programming_3 block')"
      ]
     },
     "execution_count": 85,
     "metadata": {},
     "output_type": "execute_result"
    },
    {
     "data": {
      "image/png": "[encoded data removed]",
      "text/plain": [
       "<Figure size 640x480 with 1 Axes>"
      ]
     },
     "metadata": {},
     "output_type": "display_data"
    }
   ],
   "source": [
    "plt.hist(d3)\n",
    "plt.xticks(list(set(d3)))\n",
    "plt.title('programming_3 block')"
   ]
  },
  {
   "cell_type": "code",
   "execution_count": 86,
   "metadata": {},
   "outputs": [
    {
     "name": "stderr",
     "output_type": "stream",
     "text": [
      "Eval:   3%|▎         | 1/32 [00:00<00:29,  1.05it/s]"
     ]
    },
    {
     "name": "stdout",
     "output_type": "stream",
     "text": [
      "torch.Size([32, 64])\n",
      "tensor(5.4986, device='mps:0') 0.15953307392996108\n",
      "torch.Size([32, 64])\n"
     ]
    },
    {
     "name": "stderr",
     "output_type": "stream",
     "text": [
      "Eval:   6%|▋         | 2/32 [00:01<00:22,  1.36it/s]"
     ]
    },
    {
     "name": "stdout",
     "output_type": "stream",
     "text": [
      "tensor(5.0358, device='mps:0') 0.20599250936329588\n",
      "torch.Size([32, 64])\n"
     ]
    },
    {
     "name": "stderr",
     "output_type": "stream",
     "text": [
      "Eval:   9%|▉         | 3/32 [00:01<00:16,  1.76it/s]"
     ]
    },
    {
     "name": "stdout",
     "output_type": "stream",
     "text": [
      "tensor(5.0199, device='mps:0') 0.17578125\n",
      "torch.Size([32, 64])\n"
     ]
    },
    {
     "name": "stderr",
     "output_type": "stream",
     "text": [
      "Eval:  12%|█▎        | 4/32 [00:02<00:13,  2.13it/s]"
     ]
    },
    {
     "name": "stdout",
     "output_type": "stream",
     "text": [
      "tensor(5.4724, device='mps:0') 0.14388489208633093\n",
      "torch.Size([32, 64])\n"
     ]
    },
    {
     "name": "stderr",
     "output_type": "stream",
     "text": [
      "Eval:  16%|█▌        | 5/32 [00:02<00:10,  2.52it/s]"
     ]
    },
    {
     "name": "stdout",
     "output_type": "stream",
     "text": [
      "tensor(5.6070, device='mps:0') 0.12222222222222222\n",
      "torch.Size([32, 64])\n"
     ]
    },
    {
     "name": "stderr",
     "output_type": "stream",
     "text": [
      "Eval:  19%|█▉        | 6/32 [00:02<00:09,  2.82it/s]"
     ]
    },
    {
     "name": "stdout",
     "output_type": "stream",
     "text": [
      "tensor(5.6213, device='mps:0') 0.16296296296296298\n",
      "torch.Size([32, 64])\n"
     ]
    },
    {
     "name": "stderr",
     "output_type": "stream",
     "text": [
      "Eval:  22%|██▏       | 7/32 [00:03<00:07,  3.13it/s]"
     ]
    },
    {
     "name": "stdout",
     "output_type": "stream",
     "text": [
      "tensor(5.5265, device='mps:0') 0.1736111111111111\n",
      "torch.Size([32, 64])\n"
     ]
    },
    {
     "name": "stderr",
     "output_type": "stream",
     "text": [
      "Eval:  25%|██▌       | 8/32 [00:03<00:07,  3.38it/s]"
     ]
    },
    {
     "name": "stdout",
     "output_type": "stream",
     "text": [
      "tensor(5.5657, device='mps:0') 0.1643835616438356\n",
      "torch.Size([32, 64])\n"
     ]
    },
    {
     "name": "stderr",
     "output_type": "stream",
     "text": [
      "Eval:  28%|██▊       | 9/32 [00:03<00:06,  3.46it/s]"
     ]
    },
    {
     "name": "stdout",
     "output_type": "stream",
     "text": [
      "tensor(5.6746, device='mps:0') 0.16730038022813687\n",
      "torch.Size([32, 64])\n"
     ]
    },
    {
     "name": "stderr",
     "output_type": "stream",
     "text": [
      "Eval:  31%|███▏      | 10/32 [00:03<00:06,  3.62it/s]"
     ]
    },
    {
     "name": "stdout",
     "output_type": "stream",
     "text": [
      "tensor(5.7772, device='mps:0') 0.12915129151291513\n",
      "torch.Size([32, 64])\n"
     ]
    },
    {
     "name": "stderr",
     "output_type": "stream",
     "text": [
      "Eval:  34%|███▍      | 11/32 [00:04<00:05,  3.79it/s]"
     ]
    },
    {
     "name": "stdout",
     "output_type": "stream",
     "text": [
      "tensor(5.2065, device='mps:0') 0.1708185053380783\n",
      "torch.Size([32, 64])\n"
     ]
    },
    {
     "name": "stderr",
     "output_type": "stream",
     "text": [
      "Eval:  38%|███▊      | 12/32 [00:04<00:05,  3.80it/s]"
     ]
    },
    {
     "name": "stdout",
     "output_type": "stream",
     "text": [
      "tensor(5.3893, device='mps:0') 0.20072992700729927\n",
      "torch.Size([32, 64])\n"
     ]
    },
    {
     "name": "stderr",
     "output_type": "stream",
     "text": [
      "Eval:  41%|████      | 13/32 [00:04<00:04,  3.85it/s]"
     ]
    },
    {
     "name": "stdout",
     "output_type": "stream",
     "text": [
      "tensor(5.2700, device='mps:0') 0.21160409556313994\n",
      "torch.Size([32, 64])\n"
     ]
    },
    {
     "name": "stderr",
     "output_type": "stream",
     "text": [
      "Eval:  44%|████▍     | 14/32 [00:04<00:04,  4.07it/s]"
     ]
    },
    {
     "name": "stdout",
     "output_type": "stream",
     "text": [
      "tensor(5.7272, device='mps:0') 0.14606741573033707\n",
      "torch.Size([32, 64])\n"
     ]
    },
    {
     "name": "stderr",
     "output_type": "stream",
     "text": [
      "Eval:  47%|████▋     | 15/32 [00:04<00:04,  4.06it/s]"
     ]
    },
    {
     "name": "stdout",
     "output_type": "stream",
     "text": [
      "tensor(5.8430, device='mps:0') 0.11969111969111969\n",
      "torch.Size([32, 64])\n"
     ]
    },
    {
     "name": "stderr",
     "output_type": "stream",
     "text": [
      "Eval:  50%|█████     | 16/32 [00:05<00:05,  3.07it/s]"
     ]
    },
    {
     "name": "stdout",
     "output_type": "stream",
     "text": [
      "tensor(5.3185, device='mps:0') 0.1724137931034483\n",
      "torch.Size([32, 64])\n"
     ]
    },
    {
     "name": "stderr",
     "output_type": "stream",
     "text": [
      "Eval:  53%|█████▎    | 17/32 [00:05<00:04,  3.23it/s]"
     ]
    },
    {
     "name": "stdout",
     "output_type": "stream",
     "text": [
      "tensor(5.4891, device='mps:0') 0.19935691318327975\n",
      "torch.Size([32, 64])\n"
     ]
    },
    {
     "name": "stderr",
     "output_type": "stream",
     "text": [
      "Eval:  56%|█████▋    | 18/32 [00:06<00:04,  3.20it/s]"
     ]
    },
    {
     "name": "stdout",
     "output_type": "stream",
     "text": [
      "tensor(5.3092, device='mps:0') 0.1970260223048327\n",
      "torch.Size([32, 64])\n"
     ]
    },
    {
     "name": "stderr",
     "output_type": "stream",
     "text": [
      "Eval:  59%|█████▉    | 19/32 [00:06<00:04,  3.21it/s]"
     ]
    },
    {
     "name": "stdout",
     "output_type": "stream",
     "text": [
      "tensor(5.5358, device='mps:0') 0.16129032258064516\n",
      "torch.Size([32, 64])\n"
     ]
    },
    {
     "name": "stderr",
     "output_type": "stream",
     "text": [
      "Eval:  62%|██████▎   | 20/32 [00:06<00:03,  3.25it/s]"
     ]
    },
    {
     "name": "stdout",
     "output_type": "stream",
     "text": [
      "tensor(5.7090, device='mps:0') 0.13108614232209737\n",
      "torch.Size([32, 64])\n"
     ]
    },
    {
     "name": "stderr",
     "output_type": "stream",
     "text": [
      "Eval:  66%|██████▌   | 21/32 [00:06<00:03,  3.32it/s]"
     ]
    },
    {
     "name": "stdout",
     "output_type": "stream",
     "text": [
      "tensor(5.1860, device='mps:0') 0.18181818181818182\n",
      "torch.Size([32, 64])\n"
     ]
    },
    {
     "name": "stderr",
     "output_type": "stream",
     "text": [
      "Eval:  69%|██████▉   | 22/32 [00:07<00:03,  3.27it/s]"
     ]
    },
    {
     "name": "stdout",
     "output_type": "stream",
     "text": [
      "tensor(5.6661, device='mps:0') 0.16326530612244897\n",
      "torch.Size([32, 64])\n"
     ]
    },
    {
     "name": "stderr",
     "output_type": "stream",
     "text": [
      "Eval:  72%|███████▏  | 23/32 [00:07<00:02,  3.41it/s]"
     ]
    },
    {
     "name": "stdout",
     "output_type": "stream",
     "text": [
      "tensor(5.3508, device='mps:0') 0.1444043321299639\n",
      "torch.Size([32, 64])\n"
     ]
    },
    {
     "name": "stderr",
     "output_type": "stream",
     "text": [
      "Eval:  75%|███████▌  | 24/32 [00:07<00:02,  3.45it/s]"
     ]
    },
    {
     "name": "stdout",
     "output_type": "stream",
     "text": [
      "tensor(5.4235, device='mps:0') 0.17886178861788618\n",
      "torch.Size([32, 64])\n"
     ]
    },
    {
     "name": "stderr",
     "output_type": "stream",
     "text": [
      "Eval:  78%|███████▊  | 25/32 [00:08<00:01,  3.53it/s]"
     ]
    },
    {
     "name": "stdout",
     "output_type": "stream",
     "text": [
      "tensor(5.3454, device='mps:0') 0.15037593984962405\n",
      "torch.Size([32, 64])\n"
     ]
    },
    {
     "name": "stderr",
     "output_type": "stream",
     "text": [
      "Eval:  81%|████████▏ | 26/32 [00:08<00:01,  3.62it/s]"
     ]
    },
    {
     "name": "stdout",
     "output_type": "stream",
     "text": [
      "tensor(5.5572, device='mps:0') 0.15163934426229508\n",
      "torch.Size([32, 64])\n"
     ]
    },
    {
     "name": "stderr",
     "output_type": "stream",
     "text": [
      "Eval:  84%|████████▍ | 27/32 [00:08<00:01,  3.51it/s]"
     ]
    },
    {
     "name": "stdout",
     "output_type": "stream",
     "text": [
      "tensor(5.5460, device='mps:0') 0.1553030303030303\n",
      "torch.Size([32, 64])\n"
     ]
    },
    {
     "name": "stderr",
     "output_type": "stream",
     "text": [
      "Eval:  88%|████████▊ | 28/32 [00:08<00:01,  3.42it/s]"
     ]
    },
    {
     "name": "stdout",
     "output_type": "stream",
     "text": [
      "tensor(4.7595, device='mps:0') 0.1867704280155642\n",
      "torch.Size([32, 64])\n"
     ]
    },
    {
     "name": "stderr",
     "output_type": "stream",
     "text": [
      "Eval:  91%|█████████ | 29/32 [00:09<00:00,  3.30it/s]"
     ]
    },
    {
     "name": "stdout",
     "output_type": "stream",
     "text": [
      "tensor(5.4188, device='mps:0') 0.1895910780669145\n",
      "torch.Size([32, 64])\n"
     ]
    },
    {
     "name": "stderr",
     "output_type": "stream",
     "text": [
      "Eval:  94%|█████████▍| 30/32 [00:09<00:00,  3.28it/s]"
     ]
    },
    {
     "name": "stdout",
     "output_type": "stream",
     "text": [
      "tensor(5.2673, device='mps:0') 0.1970260223048327\n",
      "torch.Size([32, 64])\n"
     ]
    },
    {
     "name": "stderr",
     "output_type": "stream",
     "text": [
      "Eval:  97%|█████████▋| 31/32 [00:09<00:00,  3.38it/s]"
     ]
    },
    {
     "name": "stdout",
     "output_type": "stream",
     "text": [
      "tensor(5.4302, device='mps:0') 0.19318181818181818\n",
      "torch.Size([8, 64])\n"
     ]
    },
    {
     "name": "stderr",
     "output_type": "stream",
     "text": [
      "Eval: 100%|██████████| 32/32 [00:10<00:00,  3.16it/s]"
     ]
    },
    {
     "name": "stdout",
     "output_type": "stream",
     "text": [
      "tensor(5.0761, device='mps:0') 0.22580645161290322\n"
     ]
    },
    {
     "name": "stderr",
     "output_type": "stream",
     "text": [
      "\n"
     ]
    }
   ],
   "source": [
    "model.eval()\n",
    "with tqdm(\n",
    "    desc=\"Eval\", total=len(gaming_dataloader), dynamic_ncols=True\n",
    ") as eval_pbar:\n",
    "    epoch_gates_stats_val = torch.tensor([]).to(model_params.device)\n",
    "    with torch.no_grad():\n",
    "        for eval_batch in gaming_dataloader:\n",
    "            input_ids, attention_mask, labels = (\n",
    "                eval_batch[\"input_ids\"].to(device),\n",
    "                eval_batch[\"attention_mask\"].to(device),\n",
    "                eval_batch[\"labels\"].to(device),\n",
    "            )\n",
    "            output, gate_respond_val = model(input_ids)\n",
    "\n",
    "            # mask = (input_ids == 103)\n",
    "            # masked_targets = torch.full_like(labels, -1, dtype=torch.long, device=device)\n",
    "            # masked_targets[mask] = labels[mask]\n",
    "            # masked_targets = masked_targets.view(-1)\n",
    "            # output_ = output.view(-1, output.size(-1))\n",
    "            # print(mask.shape, masked_targets.shape, output_.shape, loss)\n",
    "            # loss = F.cross_entropy(output_, masked_targets, ignore_index=-1)\n",
    "\n",
    "            # # Декодируем входные токены\n",
    "            # decoded_inputs = [tokenizer.decode(ids, skip_special_tokens=True) for ids in input_ids]\n",
    "            # # Декодируем предсказанные токены\n",
    "            # predicted_ids = torch.argmax(output.view(-1, output.size(-1)), dim=-1)  # Получаем предсказанные токены\n",
    "            # predicted_ids = predicted_ids.view(-1, 64)  # Преобразуем обратно в [batch_size, max_len]\n",
    "            # decoded_predictions = [tokenizer.decode(ids, skip_special_tokens=True) for ids in predicted_ids]\n",
    "\n",
    "            # print(decoded_predictions)\n",
    "            # print(decoded_inputs)\n",
    "\n",
    "            # print(\"-\" * 40)\n",
    "\n",
    "            # Выводим результаты\n",
    "            # for i in range(len(decoded_inputs)):\n",
    "            #     print(f\"Input: {decoded_inputs[i]}\")\n",
    "            #     print(f\"Predicted: {decoded_predictions[i]}\")\n",
    "            #     print(\"-\" * 40)\n",
    "\n",
    "\n",
    "            # mask = torch.full_like(labels, -1, device=device)\n",
    "            # for i in range(labels.size(0)):\n",
    "            #     index_eq = ((input_ids[i] == 103).int()).nonzero(as_tuple=True)[0] \n",
    "            #     mask[i, :index_eq + 1] = True\n",
    "            #     masked_targets = labels.masked_fill(mask, 0)\n",
    "\n",
    "            # print(masked_targets.shape)\n",
    "\n",
    "            mask = input_ids == train_params.tokenizer_mask_id\n",
    "            print(mask.shape)\n",
    "            masked_output = output[mask]\n",
    "            masked_labels = labels[mask]\n",
    "\n",
    "            # print(masked_output.shape, masked_labels.shape, output.shape, labels.shape)\n",
    "\n",
    "            loss = F.cross_entropy(masked_output, masked_labels)\n",
    "            _, predicted = torch.max(masked_output, dim=-1)\n",
    "            # print(predicted.shape, masked_labels.shape)\n",
    "            # predicted_decoded, labels_decoded = tokenizer.decode(predicted), tokenizer.decode(masked_labels)\n",
    "\n",
    "            predicted_decoded = [tokenizer.decode(tok) for tok in predicted]\n",
    "            labels_decoded = [tokenizer.decode(tok) for tok in masked_labels]\n",
    "\n",
    "            # for i in range(10):\n",
    "            #     print(\"PRED\", predicted_decoded[i], \"REAL\", labels_decoded[i])\n",
    "            # # print(predicted_decoded)\n",
    "            # # print(labels_decoded)\n",
    "            # print(\"-\" * 40)\n",
    "\n",
    "            # print(\"BATCH\", '\\n\\n')\n",
    "            # for i in range(5):\n",
    "            #     print(\"PRED\", predicted_decoded[i], \"REAL\", labels_decoded[i])\n",
    "\n",
    "            # print(predicted_decoded)\n",
    "            # print(labels_decoded)\n",
    "            # correct_predictions = (predicted == masked_labels).sum().item()\n",
    "            # total_predictions = masked_labels.size(0)\n",
    "            # accuracy = correct_predictions / total_predictions if total_predictions > 0 else 0.0\n",
    "\n",
    "            # # print(output.shape, gate_respond_val.shape)\n",
    "\n",
    "            epoch_gates_stats_val = process_gate_response(\n",
    "                epoch_gates_stats_val,\n",
    "                gate_respond_val,\n",
    "                train_params,\n",
    "                model_params,\n",
    "            )\n",
    "\n",
    "            loss, accuracy = calculate_loss_accuracy(input_ids, output, labels, train_params)\n",
    "            print(loss, accuracy)\n",
    "\n",
    "            eval_pbar.update(1)"
   ]
  },
  {
   "cell_type": "code",
   "execution_count": 87,
   "metadata": {},
   "outputs": [
    {
     "data": {
      "text/plain": [
       "torch.Size([96, 32, 64])"
      ]
     },
     "execution_count": 87,
     "metadata": {},
     "output_type": "execute_result"
    }
   ],
   "source": [
    "epoch_gates_stats_val.shape"
   ]
  },
  {
   "cell_type": "code",
   "execution_count": 88,
   "metadata": {},
   "outputs": [],
   "source": [
    "d = [int(i) for i in epoch_gates_stats_val.flatten().cpu()]\n",
    "\n",
    "while -1 in d:\n",
    "    d.remove(-1)"
   ]
  },
  {
   "cell_type": "code",
   "execution_count": 89,
   "metadata": {},
   "outputs": [
    {
     "data": {
      "text/plain": [
       "Text(0.5, 1.0, 'gaming')"
      ]
     },
     "execution_count": 89,
     "metadata": {},
     "output_type": "execute_result"
    },
    {
     "data": {
      "image/png": "[encoded data removed]",
      "text/plain": [
       "<Figure size 640x480 with 1 Axes>"
      ]
     },
     "metadata": {},
     "output_type": "display_data"
    }
   ],
   "source": [
    "plt.hist(d)\n",
    "plt.xticks(list(set(d)))\n",
    "plt.title('gaming')"
   ]
  },
  {
   "cell_type": "code",
   "execution_count": 90,
   "metadata": {},
   "outputs": [],
   "source": [
    "epoch_gate_stats_val_1 = epoch_gates_stats_val[::3]\n",
    "epoch_gate_stats_val_2 = epoch_gates_stats_val[1::3]\n",
    "epoch_gate_stats_val_3 = epoch_gates_stats_val[2::3]\n",
    "\n",
    "d1 = [int(i) for i in epoch_gate_stats_val_1.flatten().cpu()]\n",
    "\n",
    "while -1 in d1:\n",
    "    d1.remove(-1)\n",
    "\n",
    "d2 = [int(i) for i in epoch_gate_stats_val_2.flatten().cpu()]\n",
    "\n",
    "while -1 in d2:\n",
    "    d2.remove(-1)\n",
    "\n",
    "d3 = [int(i) for i in epoch_gate_stats_val_3.flatten().cpu()]\n",
    "\n",
    "while -1 in d3:\n",
    "    d3.remove(-1)"
   ]
  },
  {
   "cell_type": "code",
   "execution_count": 91,
   "metadata": {},
   "outputs": [
    {
     "data": {
      "text/plain": [
       "Text(0.5, 1.0, 'gaming_1 block')"
      ]
     },
     "execution_count": 91,
     "metadata": {},
     "output_type": "execute_result"
    },
    {
     "data": {
      "image/png": "[encoded data removed]",
      "text/plain": [
       "<Figure size 640x480 with 1 Axes>"
      ]
     },
     "metadata": {},
     "output_type": "display_data"
    }
   ],
   "source": [
    "plt.hist(d1)\n",
    "plt.xticks(list(set(d1)))\n",
    "plt.title('gaming_1 block')"
   ]
  },
  {
   "cell_type": "code",
   "execution_count": 92,
   "metadata": {},
   "outputs": [
    {
     "data": {
      "text/plain": [
       "Text(0.5, 1.0, 'gaming_2 block')"
      ]
     },
     "execution_count": 92,
     "metadata": {},
     "output_type": "execute_result"
    },
    {
     "data": {
      "image/png": "[encoded data removed]",
      "text/plain": [
       "<Figure size 640x480 with 1 Axes>"
      ]
     },
     "metadata": {},
     "output_type": "display_data"
    }
   ],
   "source": [
    "plt.hist(d2)\n",
    "plt.xticks(list(set(d2)))\n",
    "plt.title('gaming_2 block')"
   ]
  },
  {
   "cell_type": "code",
   "execution_count": 93,
   "metadata": {},
   "outputs": [
    {
     "data": {
      "text/plain": [
       "Text(0.5, 1.0, 'gaming_3 block')"
      ]
     },
     "execution_count": 93,
     "metadata": {},
     "output_type": "execute_result"
    },
    {
     "data": {
      "image/png": "[encoded data removed]",
      "text/plain": [
       "<Figure size 640x480 with 1 Axes>"
      ]
     },
     "metadata": {},
     "output_type": "display_data"
    }
   ],
   "source": [
    "plt.hist(d3)\n",
    "plt.xticks(list(set(d3)))\n",
    "plt.title('gaming_3 block')"
   ]
  }
 ],
 "metadata": {
  "kernelspec": {
   "display_name": "Python 3",
   "language": "python",
   "name": "python3"
  },
  "language_info": {
   "codemirror_mode": {
    "name": "ipython",
    "version": 3
   },
   "file_extension": ".py",
   "mimetype": "text/x-python",
   "name": "python",
   "nbconvert_exporter": "python",
   "pygments_lexer": "ipython3",
   "version": "3.11.8"
  }
 },
 "nbformat": 4,
 "nbformat_minor": 2
}
