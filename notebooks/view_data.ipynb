{
 "cells": [
  {
   "cell_type": "code",
   "execution_count": 26,
   "metadata": {},
   "outputs": [],
   "source": [
    "import sys\n",
    "sys.path.append(\"../\")\n",
    "\n",
    "import pandas as pd"
   ]
  },
  {
   "cell_type": "code",
   "execution_count": 27,
   "metadata": {},
   "outputs": [],
   "source": [
    "from config_utils.load_config import load_params_from_yaml, DataParamsSchema\n",
    "dataset_params = load_params_from_yaml(\"dataset_params.yaml\", DataParamsSchema)\n",
    "\n",
    "from pathlib import Path\n",
    "root_dir = Path().resolve().parents[0]"
   ]
  },
  {
   "cell_type": "code",
   "execution_count": 3,
   "metadata": {},
   "outputs": [],
   "source": [
    "train_df = pd.read_csv(root_dir / dataset_params.data_params.train_data_path)\n",
    "test_df = pd.read_csv(root_dir / dataset_params.data_params.test_data_path)\n",
    "subred_1 = pd.read_csv(root_dir / dataset_params.data_params.subset1_path /  (dataset_params.data_params.subreddit1 + '.csv'))\n",
    "subred_2 = pd.read_csv(root_dir / dataset_params.data_params.subset2_path /  (dataset_params.data_params.subreddit2 + '.csv'))\n"
   ]
  },
  {
   "cell_type": "code",
   "execution_count": 4,
   "metadata": {},
   "outputs": [
    {
     "data": {
      "text/html": [
       "<div>\n",
       "<style scoped>\n",
       "    .dataframe tbody tr th:only-of-type {\n",
       "        vertical-align: middle;\n",
       "    }\n",
       "\n",
       "    .dataframe tbody tr th {\n",
       "        vertical-align: top;\n",
       "    }\n",
       "\n",
       "    .dataframe thead th {\n",
       "        text-align: right;\n",
       "    }\n",
       "</style>\n",
       "<table border=\"1\" class=\"dataframe\">\n",
       "  <thead>\n",
       "    <tr style=\"text-align: right;\">\n",
       "      <th></th>\n",
       "      <th>title</th>\n",
       "      <th>body</th>\n",
       "      <th>subreddit</th>\n",
       "    </tr>\n",
       "  </thead>\n",
       "  <tbody>\n",
       "    <tr>\n",
       "      <th>0</th>\n",
       "      <td>Looking for a good pair of brown shoes.</td>\n",
       "      <td>Looking for a good pair of causal brown shoes ...</td>\n",
       "      <td>malefashionadvice</td>\n",
       "    </tr>\n",
       "    <tr>\n",
       "      <th>1</th>\n",
       "      <td>DAE collect vintage boomboxes?</td>\n",
       "      <td>I just picked up an awesome new box, and decid...</td>\n",
       "      <td>DoesAnybodyElse</td>\n",
       "    </tr>\n",
       "    <tr>\n",
       "      <th>2</th>\n",
       "      <td>Australia to Europe: Where to stop for a month...</td>\n",
       "      <td>Hey! So I'm planning to go to Europe indefinit...</td>\n",
       "      <td>travel</td>\n",
       "    </tr>\n",
       "    <tr>\n",
       "      <th>3</th>\n",
       "      <td>Hey /r/fit! I've not posted here before so bea...</td>\n",
       "      <td>A bit of context, I'm thin. Too thin I would s...</td>\n",
       "      <td>Fitness</td>\n",
       "    </tr>\n",
       "    <tr>\n",
       "      <th>4</th>\n",
       "      <td>Why does Firefox keep doing this, and how can ...</td>\n",
       "      <td>I guess I'm not a super computer wiz or anythi...</td>\n",
       "      <td>AskReddit</td>\n",
       "    </tr>\n",
       "  </tbody>\n",
       "</table>\n",
       "</div>"
      ],
      "text/plain": [
       "                                               title  \\\n",
       "0            Looking for a good pair of brown shoes.   \n",
       "1                     DAE collect vintage boomboxes?   \n",
       "2  Australia to Europe: Where to stop for a month...   \n",
       "3  Hey /r/fit! I've not posted here before so bea...   \n",
       "4  Why does Firefox keep doing this, and how can ...   \n",
       "\n",
       "                                                body          subreddit  \n",
       "0  Looking for a good pair of causal brown shoes ...  malefashionadvice  \n",
       "1  I just picked up an awesome new box, and decid...    DoesAnybodyElse  \n",
       "2  Hey! So I'm planning to go to Europe indefinit...             travel  \n",
       "3  A bit of context, I'm thin. Too thin I would s...            Fitness  \n",
       "4  I guess I'm not a super computer wiz or anythi...          AskReddit  "
      ]
     },
     "execution_count": 4,
     "metadata": {},
     "output_type": "execute_result"
    }
   ],
   "source": [
    "train_df.head()"
   ]
  },
  {
   "cell_type": "code",
   "execution_count": 5,
   "metadata": {},
   "outputs": [
    {
     "data": {
      "text/html": [
       "<div>\n",
       "<style scoped>\n",
       "    .dataframe tbody tr th:only-of-type {\n",
       "        vertical-align: middle;\n",
       "    }\n",
       "\n",
       "    .dataframe tbody tr th {\n",
       "        vertical-align: top;\n",
       "    }\n",
       "\n",
       "    .dataframe thead th {\n",
       "        text-align: right;\n",
       "    }\n",
       "</style>\n",
       "<table border=\"1\" class=\"dataframe\">\n",
       "  <thead>\n",
       "    <tr style=\"text-align: right;\">\n",
       "      <th></th>\n",
       "      <th>title</th>\n",
       "      <th>body</th>\n",
       "      <th>subreddit</th>\n",
       "    </tr>\n",
       "  </thead>\n",
       "  <tbody>\n",
       "    <tr>\n",
       "      <th>0</th>\n",
       "      <td>How do you get inappropriate feelings for some...</td>\n",
       "      <td>Hi guys\\n\\nI write to you today quite torn up ...</td>\n",
       "      <td>relationship_advice</td>\n",
       "    </tr>\n",
       "    <tr>\n",
       "      <th>1</th>\n",
       "      <td>Looking for more bands to listen to, my absolu...</td>\n",
       "      <td>So Deathcab has been my favorite for at least ...</td>\n",
       "      <td>Music</td>\n",
       "    </tr>\n",
       "    <tr>\n",
       "      <th>2</th>\n",
       "      <td>Going to get an abortion and need advice on me...</td>\n",
       "      <td>I just need some questions answered, so I know...</td>\n",
       "      <td>TwoXChromosomes</td>\n",
       "    </tr>\n",
       "    <tr>\n",
       "      <th>3</th>\n",
       "      <td>How can I connect with my Grandpa? He's in his...</td>\n",
       "      <td>I'm somewhat of a new Redditor, but I've reall...</td>\n",
       "      <td>AskReddit</td>\n",
       "    </tr>\n",
       "    <tr>\n",
       "      <th>4</th>\n",
       "      <td>Hey Reddit want to help me with a self-fulfill...</td>\n",
       "      <td>I bet if I write something obnoxious about the...</td>\n",
       "      <td>reddit.com</td>\n",
       "    </tr>\n",
       "  </tbody>\n",
       "</table>\n",
       "</div>"
      ],
      "text/plain": [
       "                                               title  \\\n",
       "0  How do you get inappropriate feelings for some...   \n",
       "1  Looking for more bands to listen to, my absolu...   \n",
       "2  Going to get an abortion and need advice on me...   \n",
       "3  How can I connect with my Grandpa? He's in his...   \n",
       "4  Hey Reddit want to help me with a self-fulfill...   \n",
       "\n",
       "                                                body            subreddit  \n",
       "0  Hi guys\\n\\nI write to you today quite torn up ...  relationship_advice  \n",
       "1  So Deathcab has been my favorite for at least ...                Music  \n",
       "2  I just need some questions answered, so I know...      TwoXChromosomes  \n",
       "3  I'm somewhat of a new Redditor, but I've reall...            AskReddit  \n",
       "4  I bet if I write something obnoxious about the...           reddit.com  "
      ]
     },
     "execution_count": 5,
     "metadata": {},
     "output_type": "execute_result"
    }
   ],
   "source": [
    "test_df.head()\n"
   ]
  },
  {
   "cell_type": "code",
   "execution_count": 6,
   "metadata": {},
   "outputs": [
    {
     "data": {
      "text/html": [
       "<div>\n",
       "<style scoped>\n",
       "    .dataframe tbody tr th:only-of-type {\n",
       "        vertical-align: middle;\n",
       "    }\n",
       "\n",
       "    .dataframe tbody tr th {\n",
       "        vertical-align: top;\n",
       "    }\n",
       "\n",
       "    .dataframe thead th {\n",
       "        text-align: right;\n",
       "    }\n",
       "</style>\n",
       "<table border=\"1\" class=\"dataframe\">\n",
       "  <thead>\n",
       "    <tr style=\"text-align: right;\">\n",
       "      <th></th>\n",
       "      <th>title</th>\n",
       "      <th>body</th>\n",
       "      <th>subreddit</th>\n",
       "    </tr>\n",
       "  </thead>\n",
       "  <tbody>\n",
       "    <tr>\n",
       "      <th>0</th>\n",
       "      <td>Programmers, do you put your comments (before|...</td>\n",
       "      <td>Inspired by: \\n\\nIn the several years I've bee...</td>\n",
       "      <td>programming</td>\n",
       "    </tr>\n",
       "    <tr>\n",
       "      <th>1</th>\n",
       "      <td>Anyone want to give some good 'finding a job' ...</td>\n",
       "      <td>I'm approaching the end of my junior year of c...</td>\n",
       "      <td>programming</td>\n",
       "    </tr>\n",
       "    <tr>\n",
       "      <th>2</th>\n",
       "      <td>I cranked out an awesome game in 48 hours for ...</td>\n",
       "      <td>The global game jam went down this past weeken...</td>\n",
       "      <td>programming</td>\n",
       "    </tr>\n",
       "    <tr>\n",
       "      <th>3</th>\n",
       "      <td>The best way to store passwords in your applic...</td>\n",
       "      <td>...is only as good as the policy you enforce. ...</td>\n",
       "      <td>programming</td>\n",
       "    </tr>\n",
       "    <tr>\n",
       "      <th>4</th>\n",
       "      <td>Hey Proggit here is my first program, a mixtur...</td>\n",
       "      <td>It's an application that emails you when your ...</td>\n",
       "      <td>programming</td>\n",
       "    </tr>\n",
       "  </tbody>\n",
       "</table>\n",
       "</div>"
      ],
      "text/plain": [
       "                                               title  \\\n",
       "0  Programmers, do you put your comments (before|...   \n",
       "1  Anyone want to give some good 'finding a job' ...   \n",
       "2  I cranked out an awesome game in 48 hours for ...   \n",
       "3  The best way to store passwords in your applic...   \n",
       "4  Hey Proggit here is my first program, a mixtur...   \n",
       "\n",
       "                                                body    subreddit  \n",
       "0  Inspired by: \\n\\nIn the several years I've bee...  programming  \n",
       "1  I'm approaching the end of my junior year of c...  programming  \n",
       "2  The global game jam went down this past weeken...  programming  \n",
       "3  ...is only as good as the policy you enforce. ...  programming  \n",
       "4  It's an application that emails you when your ...  programming  "
      ]
     },
     "execution_count": 6,
     "metadata": {},
     "output_type": "execute_result"
    }
   ],
   "source": [
    "subred_1.head()"
   ]
  },
  {
   "cell_type": "code",
   "execution_count": 7,
   "metadata": {},
   "outputs": [
    {
     "data": {
      "text/html": [
       "<div>\n",
       "<style scoped>\n",
       "    .dataframe tbody tr th:only-of-type {\n",
       "        vertical-align: middle;\n",
       "    }\n",
       "\n",
       "    .dataframe tbody tr th {\n",
       "        vertical-align: top;\n",
       "    }\n",
       "\n",
       "    .dataframe thead th {\n",
       "        text-align: right;\n",
       "    }\n",
       "</style>\n",
       "<table border=\"1\" class=\"dataframe\">\n",
       "  <thead>\n",
       "    <tr style=\"text-align: right;\">\n",
       "      <th></th>\n",
       "      <th>title</th>\n",
       "      <th>body</th>\n",
       "      <th>subreddit</th>\n",
       "    </tr>\n",
       "  </thead>\n",
       "  <tbody>\n",
       "    <tr>\n",
       "      <th>0</th>\n",
       "      <td>Here's an idea: Left 4 Dead Jurassic Park</td>\n",
       "      <td>After the power to the park goes out and the d...</td>\n",
       "      <td>gaming</td>\n",
       "    </tr>\n",
       "    <tr>\n",
       "      <th>1</th>\n",
       "      <td>r/gaming, I'm looking for a good quality heads...</td>\n",
       "      <td>I've been using this crappy little headset tha...</td>\n",
       "      <td>gaming</td>\n",
       "    </tr>\n",
       "    <tr>\n",
       "      <th>2</th>\n",
       "      <td>Please help me figure out why it's so tough fo...</td>\n",
       "      <td>4 times out of 5, when I try to connect to a V...</td>\n",
       "      <td>gaming</td>\n",
       "    </tr>\n",
       "    <tr>\n",
       "      <th>3</th>\n",
       "      <td>How to rob your opponent of a kill in MW2 in l...</td>\n",
       "      <td>Its quite easy. All you have to do is drop a g...</td>\n",
       "      <td>gaming</td>\n",
       "    </tr>\n",
       "    <tr>\n",
       "      <th>4</th>\n",
       "      <td>Anybody else find it hard to open a game after...</td>\n",
       "      <td>I don't know if I'm weird or what, but every t...</td>\n",
       "      <td>gaming</td>\n",
       "    </tr>\n",
       "  </tbody>\n",
       "</table>\n",
       "</div>"
      ],
      "text/plain": [
       "                                               title  \\\n",
       "0          Here's an idea: Left 4 Dead Jurassic Park   \n",
       "1  r/gaming, I'm looking for a good quality heads...   \n",
       "2  Please help me figure out why it's so tough fo...   \n",
       "3  How to rob your opponent of a kill in MW2 in l...   \n",
       "4  Anybody else find it hard to open a game after...   \n",
       "\n",
       "                                                body subreddit  \n",
       "0  After the power to the park goes out and the d...    gaming  \n",
       "1  I've been using this crappy little headset tha...    gaming  \n",
       "2  4 times out of 5, when I try to connect to a V...    gaming  \n",
       "3  Its quite easy. All you have to do is drop a g...    gaming  \n",
       "4  I don't know if I'm weird or what, but every t...    gaming  "
      ]
     },
     "execution_count": 7,
     "metadata": {},
     "output_type": "execute_result"
    }
   ],
   "source": [
    "subred_2.head()"
   ]
  },
  {
   "cell_type": "code",
   "execution_count": 8,
   "metadata": {},
   "outputs": [
    {
     "data": {
      "text/plain": [
       "(60000, 6000, 1000, 1000)"
      ]
     },
     "execution_count": 8,
     "metadata": {},
     "output_type": "execute_result"
    }
   ],
   "source": [
    "len(train_df), len(test_df), len(subred_1), len(subred_2)"
   ]
  },
  {
   "cell_type": "code",
   "execution_count": 9,
   "metadata": {},
   "outputs": [
    {
     "name": "stdout",
     "output_type": "stream",
     "text": [
      "Дубликатов нет.\n",
      "Дубликатов нет.\n",
      "Дубликатов нет.\n",
      "Дубликатов нет.\n",
      "Дубликатов нет.\n",
      "Дубликатов нет.\n"
     ]
    }
   ],
   "source": [
    "# Проверяем на дубликаты между всеми парами датафреймов\n",
    "def check_duplicates(df1, df2, name1, name2):\n",
    "    col = \"body\"\n",
    "    duplicates = df1.merge(df2, on=col, how='inner')\n",
    "\n",
    "    # Если дубликаты найдены, выводим их\n",
    "    if not duplicates.empty:\n",
    "        print(\"Найдены дубликаты по столбцу 'B':\")\n",
    "        print(duplicates)\n",
    "\n",
    "        # Находим индексы дубликатов в df1\n",
    "        df1_duplicates_indices = df1.index[df1[col].isin(duplicates[col])].tolist()\n",
    "        \n",
    "        # Находим индексы дубликатов в df2\n",
    "        df2_duplicates_indices = df2.index[df2[col].isin(duplicates[col])].tolist()\n",
    "\n",
    "        print(f\"Индексы дубликатов в df1: {df1_duplicates_indices}\")\n",
    "        print(f\"Индексы дубликатов в df2: {df2_duplicates_indices}\")\n",
    "    else:\n",
    "        print(\"Дубликатов нет.\")\n",
    "\n",
    "check_duplicates(train_df, test_df, \"train_df\", \"test_df\")\n",
    "check_duplicates(train_df, subred_1, \"train_df\", \"subred_1\")\n",
    "check_duplicates(train_df, subred_2, \"train_df\", \"subred_2\")\n",
    "check_duplicates(test_df, subred_1, \"test_df\", \"subred_1\")\n",
    "check_duplicates(test_df, subred_2, \"test_df\", \"subred_2\")\n",
    "check_duplicates(subred_1, subred_2, \"subred_1\", \"subred_2\")\n"
   ]
  },
  {
   "cell_type": "code",
   "execution_count": 10,
   "metadata": {},
   "outputs": [
    {
     "data": {
      "text/html": [
       "<div>\n",
       "<style scoped>\n",
       "    .dataframe tbody tr th:only-of-type {\n",
       "        vertical-align: middle;\n",
       "    }\n",
       "\n",
       "    .dataframe tbody tr th {\n",
       "        vertical-align: top;\n",
       "    }\n",
       "\n",
       "    .dataframe thead th {\n",
       "        text-align: right;\n",
       "    }\n",
       "</style>\n",
       "<table border=\"1\" class=\"dataframe\">\n",
       "  <thead>\n",
       "    <tr style=\"text-align: right;\">\n",
       "      <th></th>\n",
       "      <th>title_x</th>\n",
       "      <th>body</th>\n",
       "      <th>subreddit_x</th>\n",
       "      <th>title_y</th>\n",
       "      <th>subreddit_y</th>\n",
       "    </tr>\n",
       "  </thead>\n",
       "  <tbody>\n",
       "  </tbody>\n",
       "</table>\n",
       "</div>"
      ],
      "text/plain": [
       "Empty DataFrame\n",
       "Columns: [title_x, body, subreddit_x, title_y, subreddit_y]\n",
       "Index: []"
      ]
     },
     "execution_count": 10,
     "metadata": {},
     "output_type": "execute_result"
    }
   ],
   "source": [
    "col = \"body\"\n",
    "duplicates = train_df.merge(test_df, on=col, how='inner')\n",
    "duplicates"
   ]
  },
  {
   "cell_type": "code",
   "execution_count": 17,
   "metadata": {},
   "outputs": [
    {
     "data": {
      "text/plain": [
       "pandas.core.frame.DataFrame"
      ]
     },
     "execution_count": 17,
     "metadata": {},
     "output_type": "execute_result"
    }
   ],
   "source": [
    "type(duplicates)"
   ]
  },
  {
   "cell_type": "code",
   "execution_count": 13,
   "metadata": {},
   "outputs": [],
   "source": [
    "duplicates = test_df[test_df.duplicated(keep=False)]"
   ]
  },
  {
   "cell_type": "markdown",
   "metadata": {},
   "source": [
    "# Masked"
   ]
  },
  {
   "cell_type": "code",
   "execution_count": 28,
   "metadata": {},
   "outputs": [
    {
     "name": "stderr",
     "output_type": "stream",
     "text": [
      "/tmp/ipykernel_107890/1108389198.py:2: FutureWarning: You are using `torch.load` with `weights_only=False` (the current default value), which uses the default pickle module implicitly. It is possible to construct malicious pickle data which will execute arbitrary code during unpickling (See https://github.com/pytorch/pytorch/blob/main/SECURITY.md#untrusted-models for more details). In a future release, the default value for `weights_only` will be flipped to `True`. This limits the functions that could be executed during unpickling. Arbitrary objects will no longer be allowed to be loaded via this mode unless they are explicitly allowlisted by the user via `torch.serialization.add_safe_globals`. We recommend you start setting `weights_only=True` for any use case where you don't have full control of the loaded file. Please open an issue on GitHub for any issues related to this experimental feature.\n",
      "  inputs_loaded = torch.load(root_dir / 'data/masked/gaming.pt')\n"
     ]
    }
   ],
   "source": [
    "import torch\n",
    "inputs_loaded = torch.load(root_dir / 'data/masked/gaming.pt')"
   ]
  },
  {
   "cell_type": "code",
   "execution_count": 29,
   "metadata": {},
   "outputs": [
    {
     "data": {
      "text/plain": [
       "tensor([  101,  2061,  2651,   103,  2001,   103,  2083,   103,  3466,   103,\n",
       "         1010,  2383,  1037,  2204,  2214,  2051,  1010,  2043,  3402,  1996,\n",
       "         2208,  8007,  1012,  2582,  4812,  3662,  2008,   103,  8007,  2588,\n",
       "          103,  2000,  7170,  1037,  2047,  2930,  1997,  1996,  2208,  1012,\n",
       "         1045,  2253,  1998,  2246,  3784,  2005,  1996,  4949,  5371,  2000,\n",
       "         5672,  2026, 27279,  2028,  1010,  2021,  1045,  2481,  1005,  1056,\n",
       "         2424,   103,  1998,  5295,  2870,  2000,  2417,   103, 18570,  1998,\n",
       "        19222,  9080,  2989,   103,   103,  1012,  2174,  1010,  1045,  3603,\n",
       "         2019,  5724,   103,   103,  5144,   103,   103, 20410, 11109,  1997,\n",
       "         2334, 17053,  1012,  1000,  2588,  2770,  2008,  5724,  1010,  5492,\n",
       "         7039,  2041,  2026,  5361,  2208,  6764,  1010,  2988,  2008,  2009,\n",
       "          103,  2179,  2416, 13593,  6764,  1010,  1998,  8073, 22817,  2216,\n",
       "         2416,  6764,  1012,  2009,  2165,  2672,  1019,   102])"
      ]
     },
     "execution_count": 29,
     "metadata": {},
     "output_type": "execute_result"
    }
   ],
   "source": [
    "inputs_loaded[\"input_ids\"][5]"
   ]
  }
 ],
 "metadata": {
  "kernelspec": {
   "display_name": "venv",
   "language": "python",
   "name": "python3"
  },
  "language_info": {
   "codemirror_mode": {
    "name": "ipython",
    "version": 3
   },
   "file_extension": ".py",
   "mimetype": "text/x-python",
   "name": "python",
   "nbconvert_exporter": "python",
   "pygments_lexer": "ipython3",
   "version": "3.10.12"
  }
 },
 "nbformat": 4,
 "nbformat_minor": 2
}
