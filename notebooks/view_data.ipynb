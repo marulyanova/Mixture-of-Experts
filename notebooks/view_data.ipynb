{
 "cells": [
  {
   "cell_type": "code",
   "execution_count": 1,
   "metadata": {},
   "outputs": [],
   "source": [
    "import sys\n",
    "sys.path.append(\"../\")\n",
    "\n",
    "import pandas as pd"
   ]
  },
  {
   "cell_type": "code",
   "execution_count": 5,
   "metadata": {},
   "outputs": [],
   "source": [
    "from config_utils.load_config import load_params_from_yaml, DataParamsSchema\n",
    "dataset_params = load_params_from_yaml(\"dataset_params.yaml\", DataParamsSchema)\n",
    "\n",
    "from pathlib import Path\n",
    "root_dir = Path().resolve().parents[0]"
   ]
  },
  {
   "cell_type": "code",
   "execution_count": 14,
   "metadata": {},
   "outputs": [],
   "source": [
    "train_df = pd.read_csv(root_dir / dataset_params.data_params.train_data_path)\n",
    "test_df = pd.read_csv(root_dir / dataset_params.data_params.test_data_path)\n",
    "subred_1 = pd.read_csv(root_dir / dataset_params.data_params.subset1_path /  (dataset_params.data_params.subreddit1 + '.csv'))\n",
    "subred_2 = pd.read_csv(root_dir / dataset_params.data_params.subset2_path /  (dataset_params.data_params.subreddit2 + '.csv'))\n"
   ]
  },
  {
   "cell_type": "code",
   "execution_count": 15,
   "metadata": {},
   "outputs": [
    {
     "data": {
      "text/html": [
       "<div>\n",
       "<style scoped>\n",
       "    .dataframe tbody tr th:only-of-type {\n",
       "        vertical-align: middle;\n",
       "    }\n",
       "\n",
       "    .dataframe tbody tr th {\n",
       "        vertical-align: top;\n",
       "    }\n",
       "\n",
       "    .dataframe thead th {\n",
       "        text-align: right;\n",
       "    }\n",
       "</style>\n",
       "<table border=\"1\" class=\"dataframe\">\n",
       "  <thead>\n",
       "    <tr style=\"text-align: right;\">\n",
       "      <th></th>\n",
       "      <th>title</th>\n",
       "      <th>body</th>\n",
       "      <th>subreddit</th>\n",
       "    </tr>\n",
       "  </thead>\n",
       "  <tbody>\n",
       "    <tr>\n",
       "      <th>0</th>\n",
       "      <td>DAE heart go crazy at random times? I'm not su...</td>\n",
       "      <td>Just 10 minutes ago I freaked out because my h...</td>\n",
       "      <td>Health</td>\n",
       "    </tr>\n",
       "    <tr>\n",
       "      <th>1</th>\n",
       "      <td>fixing the wrong break-up?</td>\n",
       "      <td>So I had been dating this girl for about a yea...</td>\n",
       "      <td>relationship_advice</td>\n",
       "    </tr>\n",
       "    <tr>\n",
       "      <th>2</th>\n",
       "      <td>Another existential crisis about higher educat...</td>\n",
       "      <td>Everyone is probably getting tired of these by...</td>\n",
       "      <td>TwoXChromosomes</td>\n",
       "    </tr>\n",
       "    <tr>\n",
       "      <th>3</th>\n",
       "      <td>What is the best bank for a savings account?</td>\n",
       "      <td>I'm trying to decide what the best bank is to ...</td>\n",
       "      <td>AskReddit</td>\n",
       "    </tr>\n",
       "    <tr>\n",
       "      <th>4</th>\n",
       "      <td>(Very) Beginning leg workout for the out of shape</td>\n",
       "      <td>While doing my rehab exercises for a bad hammy...</td>\n",
       "      <td>Fitness</td>\n",
       "    </tr>\n",
       "  </tbody>\n",
       "</table>\n",
       "</div>"
      ],
      "text/plain": [
       "                                               title  \\\n",
       "0  DAE heart go crazy at random times? I'm not su...   \n",
       "1                         fixing the wrong break-up?   \n",
       "2  Another existential crisis about higher educat...   \n",
       "3       What is the best bank for a savings account?   \n",
       "4  (Very) Beginning leg workout for the out of shape   \n",
       "\n",
       "                                                body            subreddit  \n",
       "0  Just 10 minutes ago I freaked out because my h...               Health  \n",
       "1  So I had been dating this girl for about a yea...  relationship_advice  \n",
       "2  Everyone is probably getting tired of these by...      TwoXChromosomes  \n",
       "3  I'm trying to decide what the best bank is to ...            AskReddit  \n",
       "4  While doing my rehab exercises for a bad hammy...              Fitness  "
      ]
     },
     "execution_count": 15,
     "metadata": {},
     "output_type": "execute_result"
    }
   ],
   "source": [
    "train_df.head()"
   ]
  },
  {
   "cell_type": "code",
   "execution_count": 16,
   "metadata": {},
   "outputs": [
    {
     "data": {
      "text/html": [
       "<div>\n",
       "<style scoped>\n",
       "    .dataframe tbody tr th:only-of-type {\n",
       "        vertical-align: middle;\n",
       "    }\n",
       "\n",
       "    .dataframe tbody tr th {\n",
       "        vertical-align: top;\n",
       "    }\n",
       "\n",
       "    .dataframe thead th {\n",
       "        text-align: right;\n",
       "    }\n",
       "</style>\n",
       "<table border=\"1\" class=\"dataframe\">\n",
       "  <thead>\n",
       "    <tr style=\"text-align: right;\">\n",
       "      <th></th>\n",
       "      <th>title</th>\n",
       "      <th>body</th>\n",
       "      <th>subreddit</th>\n",
       "    </tr>\n",
       "  </thead>\n",
       "  <tbody>\n",
       "    <tr>\n",
       "      <th>0</th>\n",
       "      <td>[8] i wish i could have baggies evrywhere</td>\n",
       "      <td>i like redorange envelops but i'd like baggies...</td>\n",
       "      <td>trees</td>\n",
       "    </tr>\n",
       "    <tr>\n",
       "      <th>1</th>\n",
       "      <td>The Movie or Movies that scared the shit out o...</td>\n",
       "      <td>Three for me. 1. Pinocchio. Don't know why but...</td>\n",
       "      <td>movies</td>\n",
       "    </tr>\n",
       "    <tr>\n",
       "      <th>2</th>\n",
       "      <td>Question regarding bringing back extinct speci...</td>\n",
       "      <td>This is probably gonna be a stupid post as I k...</td>\n",
       "      <td>biology</td>\n",
       "    </tr>\n",
       "    <tr>\n",
       "      <th>3</th>\n",
       "      <td>Anyone here into crossdressing?</td>\n",
       "      <td>I've been crossdressing for a while now and I'...</td>\n",
       "      <td>gonewild</td>\n",
       "    </tr>\n",
       "    <tr>\n",
       "      <th>4</th>\n",
       "      <td>Can anyone help me identify this plant, please?</td>\n",
       "      <td>Here are a couple of pictures.  This plant is ...</td>\n",
       "      <td>answers</td>\n",
       "    </tr>\n",
       "  </tbody>\n",
       "</table>\n",
       "</div>"
      ],
      "text/plain": [
       "                                               title  \\\n",
       "0          [8] i wish i could have baggies evrywhere   \n",
       "1  The Movie or Movies that scared the shit out o...   \n",
       "2  Question regarding bringing back extinct speci...   \n",
       "3                    Anyone here into crossdressing?   \n",
       "4    Can anyone help me identify this plant, please?   \n",
       "\n",
       "                                                body subreddit  \n",
       "0  i like redorange envelops but i'd like baggies...     trees  \n",
       "1  Three for me. 1. Pinocchio. Don't know why but...    movies  \n",
       "2  This is probably gonna be a stupid post as I k...   biology  \n",
       "3  I've been crossdressing for a while now and I'...  gonewild  \n",
       "4  Here are a couple of pictures.  This plant is ...   answers  "
      ]
     },
     "execution_count": 16,
     "metadata": {},
     "output_type": "execute_result"
    }
   ],
   "source": [
    "test_df.head()\n"
   ]
  },
  {
   "cell_type": "code",
   "execution_count": 17,
   "metadata": {},
   "outputs": [
    {
     "data": {
      "text/html": [
       "<div>\n",
       "<style scoped>\n",
       "    .dataframe tbody tr th:only-of-type {\n",
       "        vertical-align: middle;\n",
       "    }\n",
       "\n",
       "    .dataframe tbody tr th {\n",
       "        vertical-align: top;\n",
       "    }\n",
       "\n",
       "    .dataframe thead th {\n",
       "        text-align: right;\n",
       "    }\n",
       "</style>\n",
       "<table border=\"1\" class=\"dataframe\">\n",
       "  <thead>\n",
       "    <tr style=\"text-align: right;\">\n",
       "      <th></th>\n",
       "      <th>title</th>\n",
       "      <th>body</th>\n",
       "      <th>subreddit</th>\n",
       "    </tr>\n",
       "  </thead>\n",
       "  <tbody>\n",
       "    <tr>\n",
       "      <th>0</th>\n",
       "      <td>Programmers, do you put your comments (before|...</td>\n",
       "      <td>Inspired by: \\n\\nIn the several years I've bee...</td>\n",
       "      <td>programming</td>\n",
       "    </tr>\n",
       "    <tr>\n",
       "      <th>1</th>\n",
       "      <td>Anyone want to give some good 'finding a job' ...</td>\n",
       "      <td>I'm approaching the end of my junior year of c...</td>\n",
       "      <td>programming</td>\n",
       "    </tr>\n",
       "    <tr>\n",
       "      <th>2</th>\n",
       "      <td>I cranked out an awesome game in 48 hours for ...</td>\n",
       "      <td>The global game jam went down this past weeken...</td>\n",
       "      <td>programming</td>\n",
       "    </tr>\n",
       "    <tr>\n",
       "      <th>3</th>\n",
       "      <td>The best way to store passwords in your applic...</td>\n",
       "      <td>...is only as good as the policy you enforce. ...</td>\n",
       "      <td>programming</td>\n",
       "    </tr>\n",
       "    <tr>\n",
       "      <th>4</th>\n",
       "      <td>Hey Proggit here is my first program, a mixtur...</td>\n",
       "      <td>It's an application that emails you when your ...</td>\n",
       "      <td>programming</td>\n",
       "    </tr>\n",
       "  </tbody>\n",
       "</table>\n",
       "</div>"
      ],
      "text/plain": [
       "                                               title  \\\n",
       "0  Programmers, do you put your comments (before|...   \n",
       "1  Anyone want to give some good 'finding a job' ...   \n",
       "2  I cranked out an awesome game in 48 hours for ...   \n",
       "3  The best way to store passwords in your applic...   \n",
       "4  Hey Proggit here is my first program, a mixtur...   \n",
       "\n",
       "                                                body    subreddit  \n",
       "0  Inspired by: \\n\\nIn the several years I've bee...  programming  \n",
       "1  I'm approaching the end of my junior year of c...  programming  \n",
       "2  The global game jam went down this past weeken...  programming  \n",
       "3  ...is only as good as the policy you enforce. ...  programming  \n",
       "4  It's an application that emails you when your ...  programming  "
      ]
     },
     "execution_count": 17,
     "metadata": {},
     "output_type": "execute_result"
    }
   ],
   "source": [
    "subred_1.head()"
   ]
  },
  {
   "cell_type": "code",
   "execution_count": 18,
   "metadata": {},
   "outputs": [
    {
     "data": {
      "text/html": [
       "<div>\n",
       "<style scoped>\n",
       "    .dataframe tbody tr th:only-of-type {\n",
       "        vertical-align: middle;\n",
       "    }\n",
       "\n",
       "    .dataframe tbody tr th {\n",
       "        vertical-align: top;\n",
       "    }\n",
       "\n",
       "    .dataframe thead th {\n",
       "        text-align: right;\n",
       "    }\n",
       "</style>\n",
       "<table border=\"1\" class=\"dataframe\">\n",
       "  <thead>\n",
       "    <tr style=\"text-align: right;\">\n",
       "      <th></th>\n",
       "      <th>title</th>\n",
       "      <th>body</th>\n",
       "      <th>subreddit</th>\n",
       "    </tr>\n",
       "  </thead>\n",
       "  <tbody>\n",
       "    <tr>\n",
       "      <th>0</th>\n",
       "      <td>Here's an idea: Left 4 Dead Jurassic Park</td>\n",
       "      <td>After the power to the park goes out and the d...</td>\n",
       "      <td>gaming</td>\n",
       "    </tr>\n",
       "    <tr>\n",
       "      <th>1</th>\n",
       "      <td>r/gaming, I'm looking for a good quality heads...</td>\n",
       "      <td>I've been using this crappy little headset tha...</td>\n",
       "      <td>gaming</td>\n",
       "    </tr>\n",
       "    <tr>\n",
       "      <th>2</th>\n",
       "      <td>Please help me figure out why it's so tough fo...</td>\n",
       "      <td>4 times out of 5, when I try to connect to a V...</td>\n",
       "      <td>gaming</td>\n",
       "    </tr>\n",
       "    <tr>\n",
       "      <th>3</th>\n",
       "      <td>How to rob your opponent of a kill in MW2 in l...</td>\n",
       "      <td>Its quite easy. All you have to do is drop a g...</td>\n",
       "      <td>gaming</td>\n",
       "    </tr>\n",
       "    <tr>\n",
       "      <th>4</th>\n",
       "      <td>Anybody else find it hard to open a game after...</td>\n",
       "      <td>I don't know if I'm weird or what, but every t...</td>\n",
       "      <td>gaming</td>\n",
       "    </tr>\n",
       "  </tbody>\n",
       "</table>\n",
       "</div>"
      ],
      "text/plain": [
       "                                               title  \\\n",
       "0          Here's an idea: Left 4 Dead Jurassic Park   \n",
       "1  r/gaming, I'm looking for a good quality heads...   \n",
       "2  Please help me figure out why it's so tough fo...   \n",
       "3  How to rob your opponent of a kill in MW2 in l...   \n",
       "4  Anybody else find it hard to open a game after...   \n",
       "\n",
       "                                                body subreddit  \n",
       "0  After the power to the park goes out and the d...    gaming  \n",
       "1  I've been using this crappy little headset tha...    gaming  \n",
       "2  4 times out of 5, when I try to connect to a V...    gaming  \n",
       "3  Its quite easy. All you have to do is drop a g...    gaming  \n",
       "4  I don't know if I'm weird or what, but every t...    gaming  "
      ]
     },
     "execution_count": 18,
     "metadata": {},
     "output_type": "execute_result"
    }
   ],
   "source": [
    "subred_2.head()"
   ]
  },
  {
   "cell_type": "code",
   "execution_count": 19,
   "metadata": {},
   "outputs": [
    {
     "data": {
      "text/plain": [
       "(60000, 6000, 465, 1000)"
      ]
     },
     "execution_count": 19,
     "metadata": {},
     "output_type": "execute_result"
    }
   ],
   "source": [
    "len(train_df), len(test_df), len(subred_1), len(subred_2)"
   ]
  }
 ],
 "metadata": {
  "kernelspec": {
   "display_name": "venv",
   "language": "python",
   "name": "python3"
  },
  "language_info": {
   "codemirror_mode": {
    "name": "ipython",
    "version": 3
   },
   "file_extension": ".py",
   "mimetype": "text/x-python",
   "name": "python",
   "nbconvert_exporter": "python",
   "pygments_lexer": "ipython3",
   "version": "3.10.12"
  }
 },
 "nbformat": 4,
 "nbformat_minor": 2
}
