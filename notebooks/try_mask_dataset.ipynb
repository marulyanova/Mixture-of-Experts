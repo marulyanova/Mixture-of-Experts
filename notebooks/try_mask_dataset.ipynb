{
 "cells": [
  {
   "cell_type": "code",
   "execution_count": 5,
   "metadata": {},
   "outputs": [],
   "source": [
    "import sys\n",
    "import os\n",
    "sys.path.append(\"../\")\n",
    "\n",
    "from data_processors.dataset import load_as_hf_dataset\n",
    "from config_utils.load_config import load_params_from_yaml, DataParamsSchema\n"
   ]
  },
  {
   "cell_type": "code",
   "execution_count": 6,
   "metadata": {},
   "outputs": [
    {
     "data": {
      "text/plain": [
       "DataParams(tokenizer_name='bert-base-uncased', train_data_path='data/processed/train.csv', validate_data_path='data/processed/valid.csv', test_data_path='data/processed/test.csv', subreddit1='music', subreddit2='gaming', mask_prob=0.15)"
      ]
     },
     "execution_count": 6,
     "metadata": {},
     "output_type": "execute_result"
    }
   ],
   "source": [
    "dataset_params = load_params_from_yaml(\"dataset_params.yaml\", DataParamsSchema)\n",
    "dataset_params.data_params"
   ]
  },
  {
   "cell_type": "code",
   "execution_count": 13,
   "metadata": {},
   "outputs": [],
   "source": [
    "from pathlib import Path\n",
    "root_dir = Path().resolve().parents[0]"
   ]
  },
  {
   "cell_type": "code",
   "execution_count": 14,
   "metadata": {},
   "outputs": [],
   "source": [
    "from datasets import Dataset\n",
    "from transformers import BertTokenizerFast\n",
    "\n",
    "tokenizer = BertTokenizerFast.from_pretrained(dataset_params.data_params.tokenizer_name)\n",
    "dataset = load_as_hf_dataset(root_dir / dataset_params.load_params.raw_data_path)"
   ]
  },
  {
   "cell_type": "code",
   "execution_count": 18,
   "metadata": {},
   "outputs": [
    {
     "data": {
      "text/plain": [
       "{'title': ['The one feature the iPad is really missing.',\n",
       "  \"Dear Sydney Reddit'ers, Would you like any changes made to the style of this subreddit?\",\n",
       "  'I skipped bail, ran away, and never got caught. AM(A)A.'],\n",
       " 'body': [\"I don't care about the lack of camera. I never use the one on my MacBook, and even if I did the angle would be terrible on the iPad.\\n\\nI don't care if third party apps can't run in the background. I don't listen to streaming music.\\n\\nI don't care that the App Store is a closed system. I can jailbreak for myself and I think the closed system works better for most users.\\n\\nThe one feature I want is User Accounts and a Guest Account. If this device is meant to be a coffee table computer, it needs to be able to accomadate multiple users.\",\n",
       "  'I was going to subtly edit the style of the Sydney subreddit but then I found this post and realised that people have very strong opinions about how their reddit should look. \\n\\n\\n\\nSo before I make any changes do you have any opinions or suggestions?',\n",
       "  \"Long/short story, I went to work in the United States in the last 90s and was busted in a major drug raid. I risked up to lifetime in jail if caught since I was associated with so many crimes; at the bare minimum, said my attorney, I was looking at 7 years in jail, and much more likely more than this.\\n\\nMy attorney said I was in a lot of trouble. He was the first to bring it up. I did not want to lose 10, 15 or 25 years of my life in jail, especially at my age. Since I was not a United States citizen, I should simply skip bail and run away. And never come back.\\n\\nMy bail was initially supposed to be $300,000 but my attorney managed to get the judge to set a final bail of $100,000. He explained I was a trustworthy person, lawfully employed, who never did anything wrong and never committed any crime. He portrayed me as someone trustworthy and intelligent who could take care of his responsibilities. The judge agreed and decided on a very low bail, especially for the crimes I was accused of. I still did not have so much money and had to hire a bondsman, who agreed to cover my bail for $15,000. It took three days to manage to get the money to pay both him and my attorney (I had to pay my attorney, or he would have revealed my plan to authorities).\\n\\nI got as much cash as I could, as quickly as I could, mostly pawning most of my stuff (even some stuff I was not done paying), and getting away with a simple bag. I had no passport (confiscated), but a few friends on the not-so-right side of the law. It costed me quite a bit, but I was able to take someone's identity long enough to make it back to a country next to mine, and then take a train to my country. I destroyed evidence and promptly reported to my government, got a new passport and, very quickly, a new job. I never came back to the United States or even thought about going back there.\\n\\nLast time I heard about the people who were arrested along with me, they were all convicted, and in jail. I consider myself very lucky, and happy. I've been living for over 10 years now happily and freely. It's crazy to think I could have spent this last decade in jail. I consider couldn't even imagine what my life would have looked like had I been convicted. It's crazy to spend so much of your life in jail, all due to a stupid mistake. I don't make excuses for my crime, but I do smile thinking about it. I've never been extraded/harassed in any way or shape (not even from the bondsman). AMAA.\"],\n",
       " 'subreddit': ['apple', 'sydney', 'IAmA']}"
      ]
     },
     "execution_count": 18,
     "metadata": {},
     "output_type": "execute_result"
    }
   ],
   "source": [
    "dataset[:3]"
   ]
  },
  {
   "cell_type": "code",
   "execution_count": 20,
   "metadata": {},
   "outputs": [
    {
     "data": {
      "text/plain": [
       "\"I don't care about the lack of camera. I never use the one on my MacBook, and even if I did the angle would be terrible on the iPad.\\n\\nI don't care if third party apps can't run in the background. I don't listen to streaming music.\\n\\nI don't care that the App Store is a closed system. I can jailbreak for myself and I think the closed system works better for most users.\\n\\nThe one feature I want is User Accounts and a Guest Account. If this device is meant to be a coffee table computer, it needs to be able to accomadate multiple users.\""
      ]
     },
     "execution_count": 20,
     "metadata": {},
     "output_type": "execute_result"
    }
   ],
   "source": [
    "text = dataset[\"body\"][0]\n",
    "text"
   ]
  },
  {
   "cell_type": "code",
   "execution_count": 21,
   "metadata": {},
   "outputs": [],
   "source": [
    "inputs = tokenizer(\n",
    "    text, \n",
    "    return_tensors='pt', \n",
    "    max_length=512, \n",
    "    truncation=True, \n",
    "    padding='max_length')"
   ]
  },
  {
   "cell_type": "code",
   "execution_count": 29,
   "metadata": {},
   "outputs": [
    {
     "data": {
      "text/plain": [
       "dict_keys(['input_ids', 'token_type_ids', 'attention_mask'])"
      ]
     },
     "execution_count": 29,
     "metadata": {},
     "output_type": "execute_result"
    }
   ],
   "source": [
    "inputs.keys()"
   ]
  },
  {
   "cell_type": "code",
   "execution_count": 28,
   "metadata": {},
   "outputs": [
    {
     "data": {
      "text/plain": [
       "'[MASK]'"
      ]
     },
     "execution_count": 28,
     "metadata": {},
     "output_type": "execute_result"
    }
   ],
   "source": [
    "tokenizer.special_tokens_map[\"mask_token\"]"
   ]
  },
  {
   "cell_type": "code",
   "execution_count": 30,
   "metadata": {},
   "outputs": [
    {
     "data": {
      "text/plain": [
       "torch.Size([1, 512])"
      ]
     },
     "execution_count": 30,
     "metadata": {},
     "output_type": "execute_result"
    }
   ],
   "source": [
    "inputs['input_ids'].shape"
   ]
  },
  {
   "cell_type": "code",
   "execution_count": null,
   "metadata": {},
   "outputs": [],
   "source": []
  }
 ],
 "metadata": {
  "kernelspec": {
   "display_name": "venv",
   "language": "python",
   "name": "python3"
  },
  "language_info": {
   "codemirror_mode": {
    "name": "ipython",
    "version": 3
   },
   "file_extension": ".py",
   "mimetype": "text/x-python",
   "name": "python",
   "nbconvert_exporter": "python",
   "pygments_lexer": "ipython3",
   "version": "3.10.12"
  }
 },
 "nbformat": 4,
 "nbformat_minor": 2
}
