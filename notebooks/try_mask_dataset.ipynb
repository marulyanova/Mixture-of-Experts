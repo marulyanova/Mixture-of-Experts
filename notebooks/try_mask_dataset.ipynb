{
 "cells": [
  {
   "cell_type": "code",
   "execution_count": 3,
   "metadata": {},
   "outputs": [],
   "source": [
    "import sys\n",
    "import os\n",
    "sys.path.append(\"../\")\n",
    "\n",
    "from data_processors.dataset import load_as_hf_dataset\n",
    "from config_utils.load_config import load_params_from_yaml, DataParamsSchema\n"
   ]
  },
  {
   "cell_type": "code",
   "execution_count": 4,
   "metadata": {},
   "outputs": [],
   "source": [
    "import torch"
   ]
  },
  {
   "cell_type": "code",
   "execution_count": 5,
   "metadata": {},
   "outputs": [
    {
     "data": {
      "text/plain": [
       "DataParams(tokenizer_name='bert-base-uncased', train_data_path='data/processed/train.csv', subset1_path='data/processed/', subset2_path='data/processed/', validate_data_path='data/processed/valid.csv', test_data_path='data/processed/test.csv', masked_data_path='data/masked/', subreddit1='programming', subreddit2='gaming', subreddits=[], mask_prob=0.15)"
      ]
     },
     "execution_count": 5,
     "metadata": {},
     "output_type": "execute_result"
    }
   ],
   "source": [
    "dataset_params = load_params_from_yaml(\"dataset_params.yaml\", DataParamsSchema)\n",
    "dataset_params.data_params"
   ]
  },
  {
   "cell_type": "code",
   "execution_count": 6,
   "metadata": {},
   "outputs": [],
   "source": [
    "from pathlib import Path\n",
    "root_dir = Path().resolve().parents[0]"
   ]
  },
  {
   "cell_type": "code",
   "execution_count": 7,
   "metadata": {},
   "outputs": [],
   "source": [
    "from datasets import Dataset\n",
    "from transformers import BertTokenizerFast\n",
    "\n",
    "tokenizer = BertTokenizerFast.from_pretrained(dataset_params.data_params.tokenizer_name)\n",
    "dataset = load_as_hf_dataset(root_dir / dataset_params.load_params.raw_data_path)"
   ]
  },
  {
   "cell_type": "code",
   "execution_count": 8,
   "metadata": {},
   "outputs": [
    {
     "data": {
      "text/plain": [
       "{'title': 'The one feature the iPad is really missing.',\n",
       " 'body': \"I don't care about the lack of camera. I never use the one on my MacBook, and even if I did the angle would be terrible on the iPad.\\n\\nI don't care if third party apps can't run in the background. I don't listen to streaming music.\\n\\nI don't care that the App Store is a closed system. I can jailbreak for myself and I think the closed system works better for most users.\\n\\nThe one feature I want is User Accounts and a Guest Account. If this device is meant to be a coffee table computer, it needs to be able to accomadate multiple users.\",\n",
       " 'subreddit': 'apple'}"
      ]
     },
     "execution_count": 8,
     "metadata": {},
     "output_type": "execute_result"
    }
   ],
   "source": [
    "dataset[0]"
   ]
  },
  {
   "cell_type": "code",
   "execution_count": 9,
   "metadata": {},
   "outputs": [
    {
     "data": {
      "text/plain": [
       "\"I don't care about the lack of camera. I never use the one on my MacBook, and even if I did the angle would be terrible on the iPad.\\n\\nI don't care if third party apps can't run in the background. I don't listen to streaming music.\\n\\nI don't care that the App Store is a closed system. I can jailbreak for myself and I think the closed system works better for most users.\\n\\nThe one feature I want is User Accounts and a Guest Account. If this device is meant to be a coffee table computer, it needs to be able to accomadate multiple users.\""
      ]
     },
     "execution_count": 9,
     "metadata": {},
     "output_type": "execute_result"
    }
   ],
   "source": [
    "text = dataset[\"body\"]\n",
    "text[0]"
   ]
  },
  {
   "cell_type": "code",
   "execution_count": 8,
   "metadata": {},
   "outputs": [
    {
     "data": {
      "text/plain": [
       "616.981018981019"
      ]
     },
     "execution_count": 8,
     "metadata": {},
     "output_type": "execute_result"
    }
   ],
   "source": [
    "import numpy as np\n",
    "\n",
    "np.mean(np.array([len(x) for x in text]))\n",
    "\n",
    "# max_len 512 думаю хватит"
   ]
  },
  {
   "cell_type": "code",
   "execution_count": 9,
   "metadata": {},
   "outputs": [],
   "source": [
    "inputs = tokenizer(\n",
    "    text, \n",
    "    return_tensors='pt', \n",
    "    max_length=512, \n",
    "    truncation=True, \n",
    "    padding='max_length')"
   ]
  },
  {
   "cell_type": "code",
   "execution_count": 10,
   "metadata": {},
   "outputs": [
    {
     "data": {
      "text/plain": [
       "dict_keys(['input_ids', 'token_type_ids', 'attention_mask'])"
      ]
     },
     "execution_count": 10,
     "metadata": {},
     "output_type": "execute_result"
    }
   ],
   "source": [
    "inputs.keys()"
   ]
  },
  {
   "cell_type": "code",
   "execution_count": 11,
   "metadata": {},
   "outputs": [
    {
     "data": {
      "text/plain": [
       "{'input_ids': tensor([[ 101, 1045, 2123,  ...,    0,    0,    0],\n",
       "        [ 101, 1045, 2001,  ...,    0,    0,    0],\n",
       "        [ 101, 2146, 1013,  ..., 2031, 2246,  102],\n",
       "        ...,\n",
       "        [ 101, 2045, 2024,  ...,    0,    0,    0],\n",
       "        [ 101, 2003, 2009,  ...,    0,    0,    0],\n",
       "        [ 101, 1045, 2215,  ...,    0,    0,    0]]), 'token_type_ids': tensor([[0, 0, 0,  ..., 0, 0, 0],\n",
       "        [0, 0, 0,  ..., 0, 0, 0],\n",
       "        [0, 0, 0,  ..., 0, 0, 0],\n",
       "        ...,\n",
       "        [0, 0, 0,  ..., 0, 0, 0],\n",
       "        [0, 0, 0,  ..., 0, 0, 0],\n",
       "        [0, 0, 0,  ..., 0, 0, 0]]), 'attention_mask': tensor([[1, 1, 1,  ..., 0, 0, 0],\n",
       "        [1, 1, 1,  ..., 0, 0, 0],\n",
       "        [1, 1, 1,  ..., 1, 1, 1],\n",
       "        ...,\n",
       "        [1, 1, 1,  ..., 0, 0, 0],\n",
       "        [1, 1, 1,  ..., 0, 0, 0],\n",
       "        [1, 1, 1,  ..., 0, 0, 0]])}"
      ]
     },
     "execution_count": 11,
     "metadata": {},
     "output_type": "execute_result"
    }
   ],
   "source": [
    "inputs"
   ]
  },
  {
   "cell_type": "code",
   "execution_count": 12,
   "metadata": {},
   "outputs": [
    {
     "data": {
      "text/plain": [
       "'[MASK]'"
      ]
     },
     "execution_count": 12,
     "metadata": {},
     "output_type": "execute_result"
    }
   ],
   "source": [
    "tokenizer.special_tokens_map[\"mask_token\"]"
   ]
  },
  {
   "cell_type": "code",
   "execution_count": 13,
   "metadata": {},
   "outputs": [
    {
     "data": {
      "text/plain": [
       "torch.Size([1001, 512])"
      ]
     },
     "execution_count": 13,
     "metadata": {},
     "output_type": "execute_result"
    }
   ],
   "source": [
    "inputs['input_ids'].shape"
   ]
  },
  {
   "cell_type": "code",
   "execution_count": 14,
   "metadata": {},
   "outputs": [
    {
     "data": {
      "text/plain": [
       "tensor([[0.3520, 0.4804, 0.1767,  ..., 0.0441, 0.0798, 0.1684],\n",
       "        [0.2681, 0.5523, 0.4413,  ..., 0.9734, 0.8403, 0.9980],\n",
       "        [0.5158, 0.8956, 0.9819,  ..., 0.7384, 0.2273, 0.3699],\n",
       "        ...,\n",
       "        [0.8622, 0.5233, 0.0445,  ..., 0.2098, 0.0067, 0.2114],\n",
       "        [0.0599, 0.1316, 0.2998,  ..., 0.9471, 0.3585, 0.1596],\n",
       "        [0.9903, 0.9810, 0.7681,  ..., 0.4860, 0.2037, 0.1898]])"
      ]
     },
     "execution_count": 14,
     "metadata": {},
     "output_type": "execute_result"
    }
   ],
   "source": [
    "# create random array of floats in equal dimension to input_ids\n",
    "rand = torch.rand(inputs.input_ids.shape)\n",
    "rand"
   ]
  },
  {
   "cell_type": "code",
   "execution_count": 15,
   "metadata": {},
   "outputs": [
    {
     "data": {
      "text/plain": [
       "0.15"
      ]
     },
     "execution_count": 15,
     "metadata": {},
     "output_type": "execute_result"
    }
   ],
   "source": [
    "dataset_params.data_params.mask_prob"
   ]
  },
  {
   "cell_type": "code",
   "execution_count": 16,
   "metadata": {},
   "outputs": [
    {
     "data": {
      "text/plain": [
       "101"
      ]
     },
     "execution_count": 16,
     "metadata": {},
     "output_type": "execute_result"
    }
   ],
   "source": [
    "tokenizer.cls_token_id"
   ]
  },
  {
   "cell_type": "code",
   "execution_count": 17,
   "metadata": {},
   "outputs": [
    {
     "data": {
      "text/plain": [
       "103"
      ]
     },
     "execution_count": 17,
     "metadata": {},
     "output_type": "execute_result"
    }
   ],
   "source": [
    "tokenizer.mask_token_id"
   ]
  },
  {
   "cell_type": "code",
   "execution_count": 18,
   "metadata": {},
   "outputs": [
    {
     "data": {
      "text/plain": [
       "102"
      ]
     },
     "execution_count": 18,
     "metadata": {},
     "output_type": "execute_result"
    }
   ],
   "source": [
    "tokenizer.sep_token_id"
   ]
  },
  {
   "cell_type": "code",
   "execution_count": 19,
   "metadata": {},
   "outputs": [
    {
     "data": {
      "text/plain": [
       "tensor([[False, False, False,  ..., False, False, False],\n",
       "        [False, False, False,  ..., False, False, False],\n",
       "        [False, False, False,  ..., False, False, False],\n",
       "        ...,\n",
       "        [False, False,  True,  ..., False, False, False],\n",
       "        [False,  True, False,  ..., False, False, False],\n",
       "        [False, False, False,  ..., False, False, False]])"
      ]
     },
     "execution_count": 19,
     "metadata": {},
     "output_type": "execute_result"
    }
   ],
   "source": [
    "# Создаем маску, исключая CLS, SEP и паддинг (0)\n",
    "mask_arr = (rand < dataset_params.data_params.mask_prob) * \\\n",
    "            (inputs.input_ids != tokenizer.cls_token_id) * \\\n",
    "            (inputs.input_ids != tokenizer.sep_token_id) * \\\n",
    "            (inputs.input_ids != 0)  \n",
    "mask_arr"
   ]
  },
  {
   "cell_type": "code",
   "execution_count": 20,
   "metadata": {},
   "outputs": [
    {
     "data": {
      "text/plain": [
       "[3, 15, 22, 28, 36, 38, 52, 64, 67, 74, 89, 93, 117, 129]"
      ]
     },
     "execution_count": 20,
     "metadata": {},
     "output_type": "execute_result"
    }
   ],
   "source": [
    "selection = torch.flatten((mask_arr[0]).nonzero()).tolist()\n",
    "selection"
   ]
  },
  {
   "cell_type": "code",
   "execution_count": 21,
   "metadata": {},
   "outputs": [
    {
     "data": {
      "text/plain": [
       "{'input_ids': tensor([[ 101, 1045, 2123,  ...,    0,    0,    0],\n",
       "        [ 101, 1045, 2001,  ...,    0,    0,    0],\n",
       "        [ 101, 2146, 1013,  ..., 2031, 2246,  102],\n",
       "        ...,\n",
       "        [ 101, 2045, 2024,  ...,    0,    0,    0],\n",
       "        [ 101, 2003, 2009,  ...,    0,    0,    0],\n",
       "        [ 101, 1045, 2215,  ...,    0,    0,    0]]), 'token_type_ids': tensor([[0, 0, 0,  ..., 0, 0, 0],\n",
       "        [0, 0, 0,  ..., 0, 0, 0],\n",
       "        [0, 0, 0,  ..., 0, 0, 0],\n",
       "        ...,\n",
       "        [0, 0, 0,  ..., 0, 0, 0],\n",
       "        [0, 0, 0,  ..., 0, 0, 0],\n",
       "        [0, 0, 0,  ..., 0, 0, 0]]), 'attention_mask': tensor([[1, 1, 1,  ..., 0, 0, 0],\n",
       "        [1, 1, 1,  ..., 0, 0, 0],\n",
       "        [1, 1, 1,  ..., 1, 1, 1],\n",
       "        ...,\n",
       "        [1, 1, 1,  ..., 0, 0, 0],\n",
       "        [1, 1, 1,  ..., 0, 0, 0],\n",
       "        [1, 1, 1,  ..., 0, 0, 0]]), 'labels': tensor([[ 101, 1045, 2123,  ...,    0,    0,    0],\n",
       "        [ 101, 1045, 2001,  ...,    0,    0,    0],\n",
       "        [ 101, 2146, 1013,  ..., 2031, 2246,  102],\n",
       "        ...,\n",
       "        [ 101, 2045, 2024,  ...,    0,    0,    0],\n",
       "        [ 101, 2003, 2009,  ...,    0,    0,    0],\n",
       "        [ 101, 1045, 2215,  ...,    0,    0,    0]])}"
      ]
     },
     "execution_count": 21,
     "metadata": {},
     "output_type": "execute_result"
    }
   ],
   "source": [
    "inputs['labels'] = inputs.input_ids.detach().clone()\n",
    "inputs"
   ]
  },
  {
   "cell_type": "code",
   "execution_count": 22,
   "metadata": {},
   "outputs": [
    {
     "data": {
      "text/plain": [
       "{'input_ids': tensor([[ 101, 1045, 2123,  ...,    0,    0,    0],\n",
       "        [ 101, 1045, 2001,  ...,    0,    0,    0],\n",
       "        [ 101, 2146, 1013,  ..., 2031, 2246,  102],\n",
       "        ...,\n",
       "        [ 101, 2045,  103,  ...,    0,    0,    0],\n",
       "        [ 101,  103, 2009,  ...,    0,    0,    0],\n",
       "        [ 101, 1045, 2215,  ...,    0,    0,    0]]), 'token_type_ids': tensor([[0, 0, 0,  ..., 0, 0, 0],\n",
       "        [0, 0, 0,  ..., 0, 0, 0],\n",
       "        [0, 0, 0,  ..., 0, 0, 0],\n",
       "        ...,\n",
       "        [0, 0, 0,  ..., 0, 0, 0],\n",
       "        [0, 0, 0,  ..., 0, 0, 0],\n",
       "        [0, 0, 0,  ..., 0, 0, 0]]), 'attention_mask': tensor([[1, 1, 1,  ..., 0, 0, 0],\n",
       "        [1, 1, 1,  ..., 0, 0, 0],\n",
       "        [1, 1, 1,  ..., 1, 1, 1],\n",
       "        ...,\n",
       "        [1, 1, 1,  ..., 0, 0, 0],\n",
       "        [1, 1, 1,  ..., 0, 0, 0],\n",
       "        [1, 1, 1,  ..., 0, 0, 0]]), 'labels': tensor([[ 101, 1045, 2123,  ...,    0,    0,    0],\n",
       "        [ 101, 1045, 2001,  ...,    0,    0,    0],\n",
       "        [ 101, 2146, 1013,  ..., 2031, 2246,  102],\n",
       "        ...,\n",
       "        [ 101, 2045, 2024,  ...,    0,    0,    0],\n",
       "        [ 101, 2003, 2009,  ...,    0,    0,    0],\n",
       "        [ 101, 1045, 2215,  ...,    0,    0,    0]])}"
      ]
     },
     "execution_count": 22,
     "metadata": {},
     "output_type": "execute_result"
    }
   ],
   "source": [
    "for i in range(inputs.input_ids.shape[0]):\n",
    "    selection = torch.flatten((mask_arr[i]).nonzero()).tolist()\n",
    "    inputs.input_ids[i, selection] = tokenizer.mask_token_id\n",
    "inputs"
   ]
  },
  {
   "cell_type": "code",
   "execution_count": 23,
   "metadata": {},
   "outputs": [
    {
     "data": {
      "text/plain": [
       "tensor([  101,  1045,  2123,   103,  1056,  2729,  2055,  1996,  3768,  1997,\n",
       "         4950,  1012,  1045,  2196,  2224,   103,  2028,  2006,  2026,  6097,\n",
       "         8654,  1010,   103,  2130,  2065,  1045,  2106,  1996,   103,  2052,\n",
       "         2022,  6659,  2006,  1996, 25249,  1012,   103,  2123,   103,  1056,\n",
       "         2729,  2065,  2353,  2283, 18726,  2064,  1005,  1056,  2448,  1999,\n",
       "         1996,  4281,   103,  1045,  2123,  1005,  1056,  4952,  2000, 11058,\n",
       "         2189,  1012,  1045,  2123,   103,  1056,  2729,   103,  1996, 10439,\n",
       "         3573,  2003,  1037,  2701,   103,  1012,  1045,  2064,  7173, 23890,\n",
       "         2005,  2870,  1998,  1045,  2228,  1996,  2701,  2291,  2573,   103,\n",
       "         2005,  2087,  5198,   103,  1996,  2028,  3444,  1045,  2215,  2003,\n",
       "         5310,  6115,  1998,  1037,  4113,  4070,  1012,  2065,  2023,  5080,\n",
       "         2003,  3214,  2000,  2022,  1037,  4157,  2795,   103,  1010,  2009,\n",
       "         3791,  2000,  2022,  2583,  2000, 16222,  9626, 13701,  3674,   103,\n",
       "         1012,   102,     0,     0,     0,     0,     0,     0,     0,     0,\n",
       "            0,     0,     0,     0,     0,     0,     0,     0,     0,     0,\n",
       "            0,     0,     0,     0,     0,     0,     0,     0,     0,     0,\n",
       "            0,     0,     0,     0,     0,     0,     0,     0,     0,     0,\n",
       "            0,     0,     0,     0,     0,     0,     0,     0,     0,     0,\n",
       "            0,     0,     0,     0,     0,     0,     0,     0,     0,     0,\n",
       "            0,     0,     0,     0,     0,     0,     0,     0,     0,     0,\n",
       "            0,     0,     0,     0,     0,     0,     0,     0,     0,     0,\n",
       "            0,     0,     0,     0,     0,     0,     0,     0,     0,     0,\n",
       "            0,     0,     0,     0,     0,     0,     0,     0,     0,     0,\n",
       "            0,     0,     0,     0,     0,     0,     0,     0,     0,     0,\n",
       "            0,     0,     0,     0,     0,     0,     0,     0,     0,     0,\n",
       "            0,     0,     0,     0,     0,     0,     0,     0,     0,     0,\n",
       "            0,     0,     0,     0,     0,     0,     0,     0,     0,     0,\n",
       "            0,     0,     0,     0,     0,     0,     0,     0,     0,     0,\n",
       "            0,     0,     0,     0,     0,     0,     0,     0,     0,     0,\n",
       "            0,     0,     0,     0,     0,     0,     0,     0,     0,     0,\n",
       "            0,     0,     0,     0,     0,     0,     0,     0,     0,     0,\n",
       "            0,     0,     0,     0,     0,     0,     0,     0,     0,     0,\n",
       "            0,     0,     0,     0,     0,     0,     0,     0,     0,     0,\n",
       "            0,     0,     0,     0,     0,     0,     0,     0,     0,     0,\n",
       "            0,     0,     0,     0,     0,     0,     0,     0,     0,     0,\n",
       "            0,     0,     0,     0,     0,     0,     0,     0,     0,     0,\n",
       "            0,     0,     0,     0,     0,     0,     0,     0,     0,     0,\n",
       "            0,     0,     0,     0,     0,     0,     0,     0,     0,     0,\n",
       "            0,     0,     0,     0,     0,     0,     0,     0,     0,     0,\n",
       "            0,     0,     0,     0,     0,     0,     0,     0,     0,     0,\n",
       "            0,     0,     0,     0,     0,     0,     0,     0,     0,     0,\n",
       "            0,     0,     0,     0,     0,     0,     0,     0,     0,     0,\n",
       "            0,     0,     0,     0,     0,     0,     0,     0,     0,     0,\n",
       "            0,     0,     0,     0,     0,     0,     0,     0,     0,     0,\n",
       "            0,     0,     0,     0,     0,     0,     0,     0,     0,     0,\n",
       "            0,     0,     0,     0,     0,     0,     0,     0,     0,     0,\n",
       "            0,     0,     0,     0,     0,     0,     0,     0,     0,     0,\n",
       "            0,     0,     0,     0,     0,     0,     0,     0,     0,     0,\n",
       "            0,     0,     0,     0,     0,     0,     0,     0,     0,     0,\n",
       "            0,     0,     0,     0,     0,     0,     0,     0,     0,     0,\n",
       "            0,     0,     0,     0,     0,     0,     0,     0,     0,     0,\n",
       "            0,     0])"
      ]
     },
     "execution_count": 23,
     "metadata": {},
     "output_type": "execute_result"
    }
   ],
   "source": [
    "inputs[\"input_ids\"][0]"
   ]
  },
  {
   "cell_type": "code",
   "execution_count": 24,
   "metadata": {},
   "outputs": [
    {
     "data": {
      "text/plain": [
       "tensor([  101,  1045,  2001,  2183,  2000, 28797, 10086,   103,  2806,   103,\n",
       "         1996,   103,  4942,  5596,   103,  2021,  2059,  1045,  2179,  2023,\n",
       "          103,  1998, 11323,  2008,  2111,  2031,  2200,  2844,   103,  2055,\n",
       "         2129,  2037,  2417, 23194,  2323,  2298,   103,   103,  2077,  1045,\n",
       "         2191,  2151,  3431,  2079,  2017,  2031,  2151, 10740,  2030,   103,\n",
       "         1029,   102,     0,     0,     0,     0,     0,     0,     0,     0,\n",
       "            0,     0,     0,     0,     0,     0,     0,     0,     0,     0,\n",
       "            0,     0,     0,     0,     0,     0,     0,     0,     0,     0,\n",
       "            0,     0,     0,     0,     0,     0,     0,     0,     0,     0,\n",
       "            0,     0,     0,     0,     0,     0,     0,     0,     0,     0,\n",
       "            0,     0,     0,     0,     0,     0,     0,     0,     0,     0,\n",
       "            0,     0,     0,     0,     0,     0,     0,     0,     0,     0,\n",
       "            0,     0,     0,     0,     0,     0,     0,     0,     0,     0,\n",
       "            0,     0,     0,     0,     0,     0,     0,     0,     0,     0,\n",
       "            0,     0,     0,     0,     0,     0,     0,     0,     0,     0,\n",
       "            0,     0,     0,     0,     0,     0,     0,     0,     0,     0,\n",
       "            0,     0,     0,     0,     0,     0,     0,     0,     0,     0,\n",
       "            0,     0,     0,     0,     0,     0,     0,     0,     0,     0,\n",
       "            0,     0,     0,     0,     0,     0,     0,     0,     0,     0,\n",
       "            0,     0,     0,     0,     0,     0,     0,     0,     0,     0,\n",
       "            0,     0,     0,     0,     0,     0,     0,     0,     0,     0,\n",
       "            0,     0,     0,     0,     0,     0,     0,     0,     0,     0,\n",
       "            0,     0,     0,     0,     0,     0,     0,     0,     0,     0,\n",
       "            0,     0,     0,     0,     0,     0,     0,     0,     0,     0,\n",
       "            0,     0,     0,     0,     0,     0,     0,     0,     0,     0,\n",
       "            0,     0,     0,     0,     0,     0,     0,     0,     0,     0,\n",
       "            0,     0,     0,     0,     0,     0,     0,     0,     0,     0,\n",
       "            0,     0,     0,     0,     0,     0,     0,     0,     0,     0,\n",
       "            0,     0,     0,     0,     0,     0,     0,     0,     0,     0,\n",
       "            0,     0,     0,     0,     0,     0,     0,     0,     0,     0,\n",
       "            0,     0,     0,     0,     0,     0,     0,     0,     0,     0,\n",
       "            0,     0,     0,     0,     0,     0,     0,     0,     0,     0,\n",
       "            0,     0,     0,     0,     0,     0,     0,     0,     0,     0,\n",
       "            0,     0,     0,     0,     0,     0,     0,     0,     0,     0,\n",
       "            0,     0,     0,     0,     0,     0,     0,     0,     0,     0,\n",
       "            0,     0,     0,     0,     0,     0,     0,     0,     0,     0,\n",
       "            0,     0,     0,     0,     0,     0,     0,     0,     0,     0,\n",
       "            0,     0,     0,     0,     0,     0,     0,     0,     0,     0,\n",
       "            0,     0,     0,     0,     0,     0,     0,     0,     0,     0,\n",
       "            0,     0,     0,     0,     0,     0,     0,     0,     0,     0,\n",
       "            0,     0,     0,     0,     0,     0,     0,     0,     0,     0,\n",
       "            0,     0,     0,     0,     0,     0,     0,     0,     0,     0,\n",
       "            0,     0,     0,     0,     0,     0,     0,     0,     0,     0,\n",
       "            0,     0,     0,     0,     0,     0,     0,     0,     0,     0,\n",
       "            0,     0,     0,     0,     0,     0,     0,     0,     0,     0,\n",
       "            0,     0,     0,     0,     0,     0,     0,     0,     0,     0,\n",
       "            0,     0,     0,     0,     0,     0,     0,     0,     0,     0,\n",
       "            0,     0,     0,     0,     0,     0,     0,     0,     0,     0,\n",
       "            0,     0,     0,     0,     0,     0,     0,     0,     0,     0,\n",
       "            0,     0,     0,     0,     0,     0,     0,     0,     0,     0,\n",
       "            0,     0,     0,     0,     0,     0,     0,     0,     0,     0,\n",
       "            0,     0])"
      ]
     },
     "execution_count": 24,
     "metadata": {},
     "output_type": "execute_result"
    }
   ],
   "source": [
    "inputs[\"input_ids\"][1]"
   ]
  },
  {
   "cell_type": "code",
   "execution_count": 25,
   "metadata": {},
   "outputs": [],
   "source": [
    "# final\n",
    "inputs = tokenizer(\n",
    "    text, \n",
    "    return_tensors='pt', \n",
    "    max_length=512, \n",
    "    truncation=True, \n",
    "    padding='max_length')\n",
    "\n",
    "inputs['labels'] = inputs.input_ids.detach().clone()\n",
    "\n",
    "# create random array of floats in equal dimension to input_ids\n",
    "rand = torch.rand(inputs.input_ids.shape)\n",
    "\n",
    "# create mask, without CLS, SEP and padding (0)\n",
    "mask_arr = (rand < dataset_params.data_params.mask_prob) * \\\n",
    "            (inputs.input_ids != tokenizer.cls_token_id) * \\\n",
    "            (inputs.input_ids != tokenizer.sep_token_id) * \\\n",
    "            (inputs.input_ids != 0)  \n",
    "\n",
    "selection = torch.flatten((mask_arr[0]).nonzero()).tolist()\n",
    "\n",
    "for i in range(inputs.input_ids.shape[0]):\n",
    "    selection = torch.flatten((mask_arr[i]).nonzero()).tolist()\n",
    "    inputs.input_ids[i, selection] = tokenizer.mask_token_id"
   ]
  },
  {
   "cell_type": "code",
   "execution_count": 26,
   "metadata": {},
   "outputs": [
    {
     "data": {
      "text/plain": [
       "tensor([  101,   103,  2572,   103,  4121,   103,   103,  1010,  1045,   103,\n",
       "         2572,   103,  2000,  2505,  2104,  1996,  3103,  1012,   103,  2065,\n",
       "         1045,  2572,  2108,  6135,  7481,  2026,  2398,  2091,  5440,  4996,\n",
       "          103,   103,  4095,  1010,  5164,   103,  5043,  1010,  1998,   103,\n",
       "         5743,   103,  2061,  2006,  1012,   103,  2001,  2074,   103,  2000,\n",
       "          103,  2070, 12369,  2004,   103,  2339,  1006,   103,  4092,  1007,\n",
       "         2111,   103,  1005,  1056,  2507,  4996,  1013,  2189,   103,  2023,\n",
       "          103,  1037,  4189,  6073,  1012,   102,     0,     0,     0,     0,\n",
       "            0,     0,     0,     0,     0,     0,     0,     0,     0,     0,\n",
       "            0,     0,     0,     0,     0,     0,     0,     0,     0,     0,\n",
       "            0,     0,     0,     0,     0,     0,     0,     0,     0,     0,\n",
       "            0,     0,     0,     0,     0,     0,     0,     0,     0,     0,\n",
       "            0,     0,     0,     0,     0,     0,     0,     0,     0,     0,\n",
       "            0,     0,     0,     0,     0,     0,     0,     0,     0,     0,\n",
       "            0,     0,     0,     0,     0,     0,     0,     0,     0,     0,\n",
       "            0,     0,     0,     0,     0,     0,     0,     0,     0,     0,\n",
       "            0,     0,     0,     0,     0,     0,     0,     0,     0,     0,\n",
       "            0,     0,     0,     0,     0,     0,     0,     0,     0,     0,\n",
       "            0,     0,     0,     0,     0,     0,     0,     0,     0,     0,\n",
       "            0,     0,     0,     0,     0,     0,     0,     0,     0,     0,\n",
       "            0,     0,     0,     0,     0,     0,     0,     0,     0,     0,\n",
       "            0,     0,     0,     0,     0,     0,     0,     0,     0,     0,\n",
       "            0,     0,     0,     0,     0,     0,     0,     0,     0,     0,\n",
       "            0,     0,     0,     0,     0,     0,     0,     0,     0,     0,\n",
       "            0,     0,     0,     0,     0,     0,     0,     0,     0,     0,\n",
       "            0,     0,     0,     0,     0,     0,     0,     0,     0,     0,\n",
       "            0,     0,     0,     0,     0,     0,     0,     0,     0,     0,\n",
       "            0,     0,     0,     0,     0,     0,     0,     0,     0,     0,\n",
       "            0,     0,     0,     0,     0,     0,     0,     0,     0,     0,\n",
       "            0,     0,     0,     0,     0,     0,     0,     0,     0,     0,\n",
       "            0,     0,     0,     0,     0,     0,     0,     0,     0,     0,\n",
       "            0,     0,     0,     0,     0,     0,     0,     0,     0,     0,\n",
       "            0,     0,     0,     0,     0,     0,     0,     0,     0,     0,\n",
       "            0,     0,     0,     0,     0,     0,     0,     0,     0,     0,\n",
       "            0,     0,     0,     0,     0,     0,     0,     0,     0,     0,\n",
       "            0,     0,     0,     0,     0,     0,     0,     0,     0,     0,\n",
       "            0,     0,     0,     0,     0,     0,     0,     0,     0,     0,\n",
       "            0,     0,     0,     0,     0,     0,     0,     0,     0,     0,\n",
       "            0,     0,     0,     0,     0,     0,     0,     0,     0,     0,\n",
       "            0,     0,     0,     0,     0,     0,     0,     0,     0,     0,\n",
       "            0,     0,     0,     0,     0,     0,     0,     0,     0,     0,\n",
       "            0,     0,     0,     0,     0,     0,     0,     0,     0,     0,\n",
       "            0,     0,     0,     0,     0,     0,     0,     0,     0,     0,\n",
       "            0,     0,     0,     0,     0,     0,     0,     0,     0,     0,\n",
       "            0,     0,     0,     0,     0,     0,     0,     0,     0,     0,\n",
       "            0,     0,     0,     0,     0,     0,     0,     0,     0,     0,\n",
       "            0,     0,     0,     0,     0,     0,     0,     0,     0,     0,\n",
       "            0,     0,     0,     0,     0,     0,     0,     0,     0,     0,\n",
       "            0,     0,     0,     0,     0,     0,     0,     0,     0,     0,\n",
       "            0,     0,     0,     0,     0,     0,     0,     0,     0,     0,\n",
       "            0,     0,     0,     0,     0,     0,     0,     0,     0,     0,\n",
       "            0,     0])"
      ]
     },
     "execution_count": 26,
     "metadata": {},
     "output_type": "execute_result"
    }
   ],
   "source": [
    "inputs[\"input_ids\"][4]"
   ]
  },
  {
   "cell_type": "code",
   "execution_count": 27,
   "metadata": {},
   "outputs": [],
   "source": [
    "import torch\n",
    "\n",
    "torch.save(inputs, 'tokenized_dataset.pt')\n"
   ]
  },
  {
   "cell_type": "code",
   "execution_count": 28,
   "metadata": {},
   "outputs": [
    {
     "name": "stderr",
     "output_type": "stream",
     "text": [
      "/var/folders/zg/4scz2l1x7f13kl3dkr2812840000gn/T/ipykernel_24274/3123583274.py:1: FutureWarning: You are using `torch.load` with `weights_only=False` (the current default value), which uses the default pickle module implicitly. It is possible to construct malicious pickle data which will execute arbitrary code during unpickling (See https://github.com/pytorch/pytorch/blob/main/SECURITY.md#untrusted-models for more details). In a future release, the default value for `weights_only` will be flipped to `True`. This limits the functions that could be executed during unpickling. Arbitrary objects will no longer be allowed to be loaded via this mode unless they are explicitly allowlisted by the user via `torch.serialization.add_safe_globals`. We recommend you start setting `weights_only=True` for any use case where you don't have full control of the loaded file. Please open an issue on GitHub for any issues related to this experimental feature.\n",
      "  inputs_loaded = torch.load('tokenized_dataset.pt')\n"
     ]
    }
   ],
   "source": [
    "inputs_loaded = torch.load('tokenized_dataset.pt')"
   ]
  },
  {
   "cell_type": "code",
   "execution_count": 29,
   "metadata": {},
   "outputs": [
    {
     "data": {
      "text/plain": [
       "torch.Size([512])"
      ]
     },
     "execution_count": 29,
     "metadata": {},
     "output_type": "execute_result"
    }
   ],
   "source": [
    "torch.flatten((inputs_loaded[\"input_ids\"][0] == inputs[\"input_ids\"][0]).nonzero()).shape"
   ]
  },
  {
   "cell_type": "code",
   "execution_count": 30,
   "metadata": {},
   "outputs": [
    {
     "data": {
      "text/plain": [
       "30522"
      ]
     },
     "execution_count": 30,
     "metadata": {},
     "output_type": "execute_result"
    }
   ],
   "source": [
    "tokenizer.vocab_size"
   ]
  },
  {
   "cell_type": "markdown",
   "metadata": {},
   "source": [
    "# Train model"
   ]
  },
  {
   "cell_type": "code",
   "execution_count": 31,
   "metadata": {},
   "outputs": [],
   "source": [
    "from config_utils.load_config import load_params_from_yaml, ModelParamsSchema\n",
    "\n",
    "model_params = load_params_from_yaml(\"model_params.yaml\", ModelParamsSchema)"
   ]
  },
  {
   "cell_type": "code",
   "execution_count": 32,
   "metadata": {},
   "outputs": [],
   "source": [
    "from model.model_main import MoETransformerEncoder\n",
    "\n",
    "model = MoETransformerEncoder(**model_params.__dict__)"
   ]
  },
  {
   "cell_type": "code",
   "execution_count": 33,
   "metadata": {},
   "outputs": [
    {
     "data": {
      "text/plain": [
       "MoETransformerEncoder(\n",
       "  (input_emb): InputEmbedding(\n",
       "    (input_embedding): Embedding(30522, 256)\n",
       "    (positional_encoding): PositionalEncoding()\n",
       "  )\n",
       "  (moe_transformer): Sequential(\n",
       "    (0): EncoderBlock(\n",
       "      (multi_head_attention): MultiHeadAttention_Parallel(\n",
       "        (key): Linear(in_features=256, out_features=4096, bias=False)\n",
       "        (query): Linear(in_features=256, out_features=4096, bias=False)\n",
       "        (value): Linear(in_features=256, out_features=4096, bias=False)\n",
       "        (dropout): Dropout(p=0.1, inplace=False)\n",
       "        (proj): Linear(in_features=4096, out_features=256, bias=True)\n",
       "      )\n",
       "      (layer_norm1): LayerNorm()\n",
       "      (layer_norm2): LayerNorm()\n",
       "      (moe_block): MoELayer(\n",
       "        (gate): Linear(in_features=256, out_features=4, bias=False)\n",
       "        (experts): ModuleList(\n",
       "          (0-3): 4 x PositionwiseFeedForward(\n",
       "            (linear1): Linear(in_features=256, out_features=512, bias=True)\n",
       "            (linear2): Linear(in_features=512, out_features=256, bias=True)\n",
       "            (relu): ReLU()\n",
       "            (dropout): Dropout(p=0.1, inplace=False)\n",
       "          )\n",
       "        )\n",
       "      )\n",
       "    )\n",
       "    (1): EncoderBlock(\n",
       "      (multi_head_attention): MultiHeadAttention_Parallel(\n",
       "        (key): Linear(in_features=256, out_features=4096, bias=False)\n",
       "        (query): Linear(in_features=256, out_features=4096, bias=False)\n",
       "        (value): Linear(in_features=256, out_features=4096, bias=False)\n",
       "        (dropout): Dropout(p=0.1, inplace=False)\n",
       "        (proj): Linear(in_features=4096, out_features=256, bias=True)\n",
       "      )\n",
       "      (layer_norm1): LayerNorm()\n",
       "      (layer_norm2): LayerNorm()\n",
       "      (moe_block): MoELayer(\n",
       "        (gate): Linear(in_features=256, out_features=4, bias=False)\n",
       "        (experts): ModuleList(\n",
       "          (0-3): 4 x PositionwiseFeedForward(\n",
       "            (linear1): Linear(in_features=256, out_features=512, bias=True)\n",
       "            (linear2): Linear(in_features=512, out_features=256, bias=True)\n",
       "            (relu): ReLU()\n",
       "            (dropout): Dropout(p=0.1, inplace=False)\n",
       "          )\n",
       "        )\n",
       "      )\n",
       "    )\n",
       "    (2): EncoderBlock(\n",
       "      (multi_head_attention): MultiHeadAttention_Parallel(\n",
       "        (key): Linear(in_features=256, out_features=4096, bias=False)\n",
       "        (query): Linear(in_features=256, out_features=4096, bias=False)\n",
       "        (value): Linear(in_features=256, out_features=4096, bias=False)\n",
       "        (dropout): Dropout(p=0.1, inplace=False)\n",
       "        (proj): Linear(in_features=4096, out_features=256, bias=True)\n",
       "      )\n",
       "      (layer_norm1): LayerNorm()\n",
       "      (layer_norm2): LayerNorm()\n",
       "      (moe_block): MoELayer(\n",
       "        (gate): Linear(in_features=256, out_features=4, bias=False)\n",
       "        (experts): ModuleList(\n",
       "          (0-3): 4 x PositionwiseFeedForward(\n",
       "            (linear1): Linear(in_features=256, out_features=512, bias=True)\n",
       "            (linear2): Linear(in_features=512, out_features=256, bias=True)\n",
       "            (relu): ReLU()\n",
       "            (dropout): Dropout(p=0.1, inplace=False)\n",
       "          )\n",
       "        )\n",
       "      )\n",
       "    )\n",
       "  )\n",
       "  (lm_head): Linear(in_features=256, out_features=30522, bias=True)\n",
       ")"
      ]
     },
     "execution_count": 33,
     "metadata": {},
     "output_type": "execute_result"
    }
   ],
   "source": [
    "model"
   ]
  },
  {
   "cell_type": "code",
   "execution_count": 34,
   "metadata": {},
   "outputs": [
    {
     "data": {
      "text/plain": [
       "transformers.tokenization_utils_base.BatchEncoding"
      ]
     },
     "execution_count": 34,
     "metadata": {},
     "output_type": "execute_result"
    }
   ],
   "source": [
    "type(inputs_loaded)"
   ]
  },
  {
   "cell_type": "code",
   "execution_count": 35,
   "metadata": {},
   "outputs": [
    {
     "data": {
      "text/plain": [
       "(torch.Size([1001, 512]), torch.Size([1001, 512]), torch.Size([1001, 512]))"
      ]
     },
     "execution_count": 35,
     "metadata": {},
     "output_type": "execute_result"
    }
   ],
   "source": [
    "inputs_loaded['input_ids'].shape, inputs_loaded['attention_mask'].shape, inputs_loaded['labels'].shape"
   ]
  },
  {
   "cell_type": "code",
   "execution_count": 36,
   "metadata": {},
   "outputs": [
    {
     "name": "stderr",
     "output_type": "stream",
     "text": [
      "/var/folders/zg/4scz2l1x7f13kl3dkr2812840000gn/T/ipykernel_24274/968484900.py:5: UserWarning: To copy construct from a tensor, it is recommended to use sourceTensor.clone().detach() or sourceTensor.clone().detach().requires_grad_(True), rather than torch.tensor(sourceTensor).\n",
      "  'input_ids': torch.tensor(inputs_loaded['input_ids']),\n",
      "/var/folders/zg/4scz2l1x7f13kl3dkr2812840000gn/T/ipykernel_24274/968484900.py:6: UserWarning: To copy construct from a tensor, it is recommended to use sourceTensor.clone().detach() or sourceTensor.clone().detach().requires_grad_(True), rather than torch.tensor(sourceTensor).\n",
      "  'attention_mask': torch.tensor(inputs_loaded['attention_mask']),\n",
      "/var/folders/zg/4scz2l1x7f13kl3dkr2812840000gn/T/ipykernel_24274/968484900.py:7: UserWarning: To copy construct from a tensor, it is recommended to use sourceTensor.clone().detach() or sourceTensor.clone().detach().requires_grad_(True), rather than torch.tensor(sourceTensor).\n",
      "  'labels': torch.tensor(inputs_loaded['labels'])\n"
     ]
    },
    {
     "data": {
      "text/plain": [
       "DatasetDict({\n",
       "    train: Dataset({\n",
       "        features: ['input_ids', 'attention_mask', 'labels'],\n",
       "        num_rows: 1001\n",
       "    })\n",
       "})"
      ]
     },
     "execution_count": 36,
     "metadata": {},
     "output_type": "execute_result"
    }
   ],
   "source": [
    "import datasets\n",
    "from datasets import DatasetDict\n",
    "\n",
    "data_dict = {\n",
    "    'input_ids': torch.tensor(inputs_loaded['input_ids']),\n",
    "    'attention_mask': torch.tensor(inputs_loaded['attention_mask']),\n",
    "    'labels': torch.tensor(inputs_loaded['labels'])\n",
    "}\n",
    "\n",
    "dataset = Dataset.from_dict(data_dict)\n",
    "dataset = DatasetDict({'train': dataset})\n",
    "dataset.set_format(type='torch')\n",
    "dataset"
   ]
  },
  {
   "cell_type": "code",
   "execution_count": 11,
   "metadata": {},
   "outputs": [
    {
     "data": {
      "text/plain": [
       "TrainParams(batch_size=16, n_epochs=3, learning_rate=0.001, gradient_accumulation_steps=1, experiment_name='mixture_of_experts', weight_decay=1e-05, warmup_proportion=0.1, tokenizer_mask_id=103, eval_steps=20, save_steps=1000, save_path='.', random_seed=11)"
      ]
     },
     "execution_count": 11,
     "metadata": {},
     "output_type": "execute_result"
    }
   ],
   "source": [
    "from torch.utils.data import DataLoader\n",
    "\n",
    "from config_utils.load_config import (\n",
    "    load_params_from_yaml,\n",
    "    TrainParamsSchema\n",
    ")\n",
    "\n",
    "train_params = load_params_from_yaml(\"train_params.yaml\", TrainParamsSchema)\n",
    "train_params"
   ]
  },
  {
   "cell_type": "code",
   "execution_count": 38,
   "metadata": {},
   "outputs": [
    {
     "data": {
      "text/plain": [
       "63"
      ]
     },
     "execution_count": 38,
     "metadata": {},
     "output_type": "execute_result"
    }
   ],
   "source": [
    "dataloader = DataLoader(dataset['train'], batch_size=train_params.batch_size, shuffle=True)\n",
    "len(dataloader)"
   ]
  },
  {
   "cell_type": "code",
   "execution_count": 39,
   "metadata": {},
   "outputs": [
    {
     "data": {
      "text/plain": [
       "MoETransformerEncoder(\n",
       "  (input_emb): InputEmbedding(\n",
       "    (input_embedding): Embedding(30522, 256)\n",
       "    (positional_encoding): PositionalEncoding()\n",
       "  )\n",
       "  (moe_transformer): Sequential(\n",
       "    (0): EncoderBlock(\n",
       "      (multi_head_attention): MultiHeadAttention_Parallel(\n",
       "        (key): Linear(in_features=256, out_features=4096, bias=False)\n",
       "        (query): Linear(in_features=256, out_features=4096, bias=False)\n",
       "        (value): Linear(in_features=256, out_features=4096, bias=False)\n",
       "        (dropout): Dropout(p=0.1, inplace=False)\n",
       "        (proj): Linear(in_features=4096, out_features=256, bias=True)\n",
       "      )\n",
       "      (layer_norm1): LayerNorm()\n",
       "      (layer_norm2): LayerNorm()\n",
       "      (moe_block): MoELayer(\n",
       "        (gate): Linear(in_features=256, out_features=4, bias=False)\n",
       "        (experts): ModuleList(\n",
       "          (0-3): 4 x PositionwiseFeedForward(\n",
       "            (linear1): Linear(in_features=256, out_features=512, bias=True)\n",
       "            (linear2): Linear(in_features=512, out_features=256, bias=True)\n",
       "            (relu): ReLU()\n",
       "            (dropout): Dropout(p=0.1, inplace=False)\n",
       "          )\n",
       "        )\n",
       "      )\n",
       "    )\n",
       "    (1): EncoderBlock(\n",
       "      (multi_head_attention): MultiHeadAttention_Parallel(\n",
       "        (key): Linear(in_features=256, out_features=4096, bias=False)\n",
       "        (query): Linear(in_features=256, out_features=4096, bias=False)\n",
       "        (value): Linear(in_features=256, out_features=4096, bias=False)\n",
       "        (dropout): Dropout(p=0.1, inplace=False)\n",
       "        (proj): Linear(in_features=4096, out_features=256, bias=True)\n",
       "      )\n",
       "      (layer_norm1): LayerNorm()\n",
       "      (layer_norm2): LayerNorm()\n",
       "      (moe_block): MoELayer(\n",
       "        (gate): Linear(in_features=256, out_features=4, bias=False)\n",
       "        (experts): ModuleList(\n",
       "          (0-3): 4 x PositionwiseFeedForward(\n",
       "            (linear1): Linear(in_features=256, out_features=512, bias=True)\n",
       "            (linear2): Linear(in_features=512, out_features=256, bias=True)\n",
       "            (relu): ReLU()\n",
       "            (dropout): Dropout(p=0.1, inplace=False)\n",
       "          )\n",
       "        )\n",
       "      )\n",
       "    )\n",
       "    (2): EncoderBlock(\n",
       "      (multi_head_attention): MultiHeadAttention_Parallel(\n",
       "        (key): Linear(in_features=256, out_features=4096, bias=False)\n",
       "        (query): Linear(in_features=256, out_features=4096, bias=False)\n",
       "        (value): Linear(in_features=256, out_features=4096, bias=False)\n",
       "        (dropout): Dropout(p=0.1, inplace=False)\n",
       "        (proj): Linear(in_features=4096, out_features=256, bias=True)\n",
       "      )\n",
       "      (layer_norm1): LayerNorm()\n",
       "      (layer_norm2): LayerNorm()\n",
       "      (moe_block): MoELayer(\n",
       "        (gate): Linear(in_features=256, out_features=4, bias=False)\n",
       "        (experts): ModuleList(\n",
       "          (0-3): 4 x PositionwiseFeedForward(\n",
       "            (linear1): Linear(in_features=256, out_features=512, bias=True)\n",
       "            (linear2): Linear(in_features=512, out_features=256, bias=True)\n",
       "            (relu): ReLU()\n",
       "            (dropout): Dropout(p=0.1, inplace=False)\n",
       "          )\n",
       "        )\n",
       "      )\n",
       "    )\n",
       "  )\n",
       "  (lm_head): Linear(in_features=256, out_features=30522, bias=True)\n",
       ")"
      ]
     },
     "execution_count": 39,
     "metadata": {},
     "output_type": "execute_result"
    }
   ],
   "source": [
    "device = model_params.__dict__[\"device\"]\n",
    "model.to(device)"
   ]
  },
  {
   "cell_type": "code",
   "execution_count": 40,
   "metadata": {},
   "outputs": [],
   "source": [
    "from torch.optim import AdamW\n",
    "import torch.nn as nn\n",
    "import torch.nn.functional as F\n",
    "\n",
    "optimizer = AdamW(model.parameters(), lr=train_params.learning_rate)"
   ]
  },
  {
   "cell_type": "code",
   "execution_count": 41,
   "metadata": {},
   "outputs": [],
   "source": [
    "import warnings\n",
    "warnings.filterwarnings(\"ignore\")"
   ]
  },
  {
   "cell_type": "code",
   "execution_count": 42,
   "metadata": {},
   "outputs": [],
   "source": [
    "import matplotlib.pyplot as plt\n",
    "\n",
    "def draw_gate_stats(gate_stats):\n",
    "    plt.hist(gate_stats)\n",
    "    plt.xticks(ticks=list(set(gate_stats)))\n",
    "    plt.title(\"Распределение выбранных экспертов по токенам\")"
   ]
  },
  {
   "cell_type": "code",
   "execution_count": 43,
   "metadata": {},
   "outputs": [
    {
     "name": "stderr",
     "output_type": "stream",
     "text": [
      "huggingface/tokenizers: The current process just got forked, after parallelism has already been used. Disabling parallelism to avoid deadlocks...\n",
      "To disable this warning, you can either:\n",
      "\t- Avoid using `tokenizers` before the fork if possible\n",
      "\t- Explicitly set the environment variable TOKENIZERS_PARALLELISM=(true | false)\n",
      "  0%|          | 0/63 [00:00<?, ?it/s]"
     ]
    },
    {
     "name": "stdout",
     "output_type": "stream",
     "text": [
      "tensor(10.3816, grad_fn=<NllLossBackward0>) 0.0\n"
     ]
    },
    {
     "name": "stderr",
     "output_type": "stream",
     "text": [
      "  2%|▏         | 1/63 [00:05<06:04,  5.87s/it]"
     ]
    },
    {
     "name": "stdout",
     "output_type": "stream",
     "text": [
      "tensor(9.7749, grad_fn=<NllLossBackward0>) 0.032\n"
     ]
    },
    {
     "name": "stderr",
     "output_type": "stream",
     "text": [
      "  3%|▎         | 2/63 [00:11<05:55,  5.82s/it]"
     ]
    },
    {
     "name": "stdout",
     "output_type": "stream",
     "text": [
      "tensor(9.6239, grad_fn=<NllLossBackward0>) 0.032397408207343416\n"
     ]
    },
    {
     "name": "stderr",
     "output_type": "stream",
     "text": [
      "  5%|▍         | 3/63 [00:16<05:31,  5.52s/it]"
     ]
    },
    {
     "name": "stdout",
     "output_type": "stream",
     "text": [
      "tensor(9.2567, grad_fn=<NllLossBackward0>) 0.05013927576601671\n"
     ]
    },
    {
     "name": "stderr",
     "output_type": "stream",
     "text": [
      "  5%|▍         | 3/63 [00:21<07:00,  7.00s/it]\n"
     ]
    },
    {
     "data": {
      "image/png": "[encoded data removed]",
      "text/plain": [
       "<Figure size 640x480 with 1 Axes>"
      ]
     },
     "metadata": {},
     "output_type": "display_data"
    }
   ],
   "source": [
    "from tqdm import tqdm\n",
    "\n",
    "torch.cuda.manual_seed(train_params.random_seed)\n",
    "np.random.seed(train_params.random_seed)    \n",
    "torch.manual_seed(train_params.random_seed)\n",
    "\n",
    "n_epochs = train_params.n_epochs\n",
    "gates_stats = []\n",
    "\n",
    "for epoch in range(1):\n",
    "    loop = tqdm (dataloader, leave=True)\n",
    "    model.train()\n",
    "    cnt = 0\n",
    "    for batch in loop:\n",
    "        optimizer.zero_grad()\n",
    "        input_ids, attention_mask, labels = batch[\"input_ids\"].to(device), batch[\"attention_mask\"].to(device), batch[\"labels\"].to(device)\n",
    "        output, gate_respond = model(input_ids)\n",
    "\n",
    "        gates_stats.extend(gate_respond.flatten().tolist())\n",
    "\n",
    "        mask = (input_ids == tokenizer.mask_token_id)\n",
    "        masked_output = output[mask]\n",
    "        masked_labels = labels[mask]\n",
    "\n",
    "        if masked_output.size(0) > 0:\n",
    "            loss = F.cross_entropy(masked_output, masked_labels)\n",
    "            _, predicted = torch.max(masked_output, dim=-1)\n",
    "            correct_predictions = (predicted == masked_labels).sum().item()\n",
    "            total_predictions = masked_labels.size(0)\n",
    "            accuracy = correct_predictions / total_predictions if total_predictions > 0 else 0.0\n",
    "        else:\n",
    "            loss = torch.tensor(0.0, requires_grad=True).to(device)\n",
    "            accuracy = 0.0\n",
    "            \n",
    "        print(loss, accuracy)\n",
    "        loss.backward()\n",
    "        optimizer.step()\n",
    "        cnt += 1\n",
    "        if cnt >= 4:\n",
    "            break\n",
    "    break\n",
    "    \n",
    "    # TODO: write the validation process\n",
    "    # model.eval()\n",
    "    # with torch.no_grad():\n",
    "    #     loop = tqdm (val_dataloader, leave=True)\n",
    "    #     for batch in loop:\n",
    "    #         pass\n",
    "\n",
    "draw_gate_stats(gates_stats)"
   ]
  },
  {
   "cell_type": "code",
   "execution_count": 44,
   "metadata": {},
   "outputs": [
    {
     "data": {
      "image/png": "[encoded data removed]",
      "text/plain": [
       "<Figure size 640x480 with 1 Axes>"
      ]
     },
     "metadata": {},
     "output_type": "display_data"
    }
   ],
   "source": [
    "draw_gate_stats(gates_stats)"
   ]
  },
  {
   "cell_type": "code",
   "execution_count": 46,
   "metadata": {},
   "outputs": [
    {
     "data": {
      "text/plain": [
       "(7877, 48516, 17295, 24616)"
      ]
     },
     "execution_count": 46,
     "metadata": {},
     "output_type": "execute_result"
    }
   ],
   "source": [
    "gates_stats.count(0), gates_stats.count(1), gates_stats.count(2), gates_stats.count(3)"
   ]
  }
 ],
 "metadata": {
  "kernelspec": {
   "display_name": "venv",
   "language": "python",
   "name": "python3"
  },
  "language_info": {
   "codemirror_mode": {
    "name": "ipython",
    "version": 3
   },
   "file_extension": ".py",
   "mimetype": "text/x-python",
   "name": "python",
   "nbconvert_exporter": "python",
   "pygments_lexer": "ipython3",
   "version": "3.10.12"
  }
 },
 "nbformat": 4,
 "nbformat_minor": 2
}
