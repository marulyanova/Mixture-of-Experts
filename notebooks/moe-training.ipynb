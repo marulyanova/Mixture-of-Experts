{
 "cells": [
  {
   "cell_type": "code",
   "execution_count": 1,
   "metadata": {
    "_cell_guid": "b1076dfc-b9ad-4769-8c92-a6c4dae69d19",
    "_uuid": "8f2839f25d086af736a60e9eeb907d3b93b6e0e5",
    "execution": {
     "iopub.execute_input": "2024-12-21T17:12:44.049957Z",
     "iopub.status.busy": "2024-12-21T17:12:44.049715Z",
     "iopub.status.idle": "2024-12-21T17:12:48.008937Z",
     "shell.execute_reply": "2024-12-21T17:12:48.007952Z",
     "shell.execute_reply.started": "2024-12-21T17:12:44.049932Z"
    },
    "trusted": true
   },
   "outputs": [
    {
     "name": "stdout",
     "output_type": "stream",
     "text": [
      "Cloning into 'Mixture-of-Experts'...\n",
      "remote: Enumerating objects: 738, done.\u001b[K\n",
      "remote: Counting objects: 100% (52/52), done.\u001b[K\n",
      "remote: Compressing objects: 100% (41/41), done.\u001b[K\n",
      "remote: Total 738 (delta 12), reused 41 (delta 7), pack-reused 686 (from 1)\u001b[K\n",
      "Receiving objects: 100% (738/738), 46.82 MiB | 28.81 MiB/s, done.\n",
      "Resolving deltas: 100% (345/345), done.\n"
     ]
    }
   ],
   "source": [
    "!git clone https://github.com/marulyanova/Mixture-of-Experts.git"
   ]
  },
  {
   "cell_type": "code",
   "execution_count": 2,
   "metadata": {
    "execution": {
     "iopub.execute_input": "2024-12-21T17:12:51.883109Z",
     "iopub.status.busy": "2024-12-21T17:12:51.882832Z",
     "iopub.status.idle": "2024-12-21T17:12:51.888711Z",
     "shell.execute_reply": "2024-12-21T17:12:51.888002Z",
     "shell.execute_reply.started": "2024-12-21T17:12:51.883086Z"
    },
    "trusted": true
   },
   "outputs": [
    {
     "name": "stdout",
     "output_type": "stream",
     "text": [
      "/kaggle/working/Mixture-of-Experts\n"
     ]
    }
   ],
   "source": [
    "cd Mixture-of-Experts"
   ]
  },
  {
   "cell_type": "code",
   "execution_count": 3,
   "metadata": {
    "execution": {
     "iopub.execute_input": "2024-12-21T17:12:54.212549Z",
     "iopub.status.busy": "2024-12-21T17:12:54.212196Z",
     "iopub.status.idle": "2024-12-21T17:12:54.847663Z",
     "shell.execute_reply": "2024-12-21T17:12:54.846636Z",
     "shell.execute_reply.started": "2024-12-21T17:12:54.212523Z"
    },
    "trusted": true
   },
   "outputs": [
    {
     "name": "stdout",
     "output_type": "stream",
     "text": [
      "Branch 'new-data' set up to track remote branch 'new-data' from 'origin'.\n",
      "Switched to a new branch 'new-data'\n"
     ]
    }
   ],
   "source": [
    "!git checkout branch-name"
   ]
  },
  {
   "cell_type": "code",
   "execution_count": 4,
   "metadata": {
    "execution": {
     "iopub.execute_input": "2024-12-21T17:12:57.112234Z",
     "iopub.status.busy": "2024-12-21T17:12:57.111934Z",
     "iopub.status.idle": "2024-12-21T17:12:57.119027Z",
     "shell.execute_reply": "2024-12-21T17:12:57.118371Z",
     "shell.execute_reply.started": "2024-12-21T17:12:57.112207Z"
    },
    "trusted": true
   },
   "outputs": [
    {
     "data": {
      "text/plain": [
       "['torch\\n',\n",
       " 'transformers\\n',\n",
       " 'marshmallow\\n',\n",
       " 'marshmallow_dataclass\\n',\n",
       " 'click\\n',\n",
       " 'scikit-learn\\n',\n",
       " 'accelerate\\n',\n",
       " 'aim\\n',\n",
       " 'loguru']"
      ]
     },
     "execution_count": 4,
     "metadata": {},
     "output_type": "execute_result"
    }
   ],
   "source": [
    "file = open('requirements.txt', 'r')\n",
    "file.readlines()"
   ]
  },
  {
   "cell_type": "code",
   "execution_count": 5,
   "metadata": {
    "execution": {
     "iopub.execute_input": "2024-12-21T17:12:59.600064Z",
     "iopub.status.busy": "2024-12-21T17:12:59.599819Z",
     "iopub.status.idle": "2024-12-21T17:13:16.551284Z",
     "shell.execute_reply": "2024-12-21T17:13:16.550215Z",
     "shell.execute_reply.started": "2024-12-21T17:12:59.600044Z"
    },
    "trusted": true
   },
   "outputs": [
    {
     "name": "stdout",
     "output_type": "stream",
     "text": [
      "Requirement already satisfied: torch in /usr/local/lib/python3.10/dist-packages (from -r requirements.txt (line 1)) (2.4.1+cu121)\n",
      "Requirement already satisfied: transformers in /usr/local/lib/python3.10/dist-packages (from -r requirements.txt (line 2)) (4.44.2)\n",
      "Requirement already satisfied: marshmallow in /usr/local/lib/python3.10/dist-packages (from -r requirements.txt (line 3)) (3.23.1)\n",
      "Collecting marshmallow_dataclass (from -r requirements.txt (line 4))\n",
      "  Downloading marshmallow_dataclass-8.7.1-py3-none-any.whl.metadata (12 kB)\n",
      "Requirement already satisfied: click in /usr/local/lib/python3.10/dist-packages (from -r requirements.txt (line 5)) (8.1.7)\n",
      "Requirement already satisfied: scikit-learn in /usr/local/lib/python3.10/dist-packages (from -r requirements.txt (line 6)) (1.2.2)\n",
      "Requirement already satisfied: accelerate in /usr/local/lib/python3.10/dist-packages (from -r requirements.txt (line 7)) (0.34.2)\n",
      "Collecting aim (from -r requirements.txt (line 8))\n",
      "  Downloading aim-3.27.0-cp310-cp310-manylinux_2_28_x86_64.whl.metadata (35 kB)\n",
      "Collecting loguru (from -r requirements.txt (line 9))\n",
      "  Downloading loguru-0.7.3-py3-none-any.whl.metadata (22 kB)\n",
      "Requirement already satisfied: filelock in /usr/local/lib/python3.10/dist-packages (from torch->-r requirements.txt (line 1)) (3.16.1)\n",
      "Requirement already satisfied: typing-extensions>=4.8.0 in /usr/local/lib/python3.10/dist-packages (from torch->-r requirements.txt (line 1)) (4.12.2)\n",
      "Requirement already satisfied: sympy in /usr/local/lib/python3.10/dist-packages (from torch->-r requirements.txt (line 1)) (1.13.3)\n",
      "Requirement already satisfied: networkx in /usr/local/lib/python3.10/dist-packages (from torch->-r requirements.txt (line 1)) (3.3)\n",
      "Requirement already satisfied: jinja2 in /usr/local/lib/python3.10/dist-packages (from torch->-r requirements.txt (line 1)) (3.1.4)\n",
      "Requirement already satisfied: fsspec in /usr/local/lib/python3.10/dist-packages (from torch->-r requirements.txt (line 1)) (2024.6.1)\n",
      "Requirement already satisfied: huggingface-hub<1.0,>=0.23.2 in /usr/local/lib/python3.10/dist-packages (from transformers->-r requirements.txt (line 2)) (0.24.7)\n",
      "Requirement already satisfied: numpy>=1.17 in /usr/local/lib/python3.10/dist-packages (from transformers->-r requirements.txt (line 2)) (1.26.4)\n",
      "Requirement already satisfied: packaging>=20.0 in /usr/local/lib/python3.10/dist-packages (from transformers->-r requirements.txt (line 2)) (24.1)\n",
      "Requirement already satisfied: pyyaml>=5.1 in /usr/local/lib/python3.10/dist-packages (from transformers->-r requirements.txt (line 2)) (6.0.2)\n",
      "Requirement already satisfied: regex!=2019.12.17 in /usr/local/lib/python3.10/dist-packages (from transformers->-r requirements.txt (line 2)) (2024.9.11)\n",
      "Requirement already satisfied: requests in /usr/local/lib/python3.10/dist-packages (from transformers->-r requirements.txt (line 2)) (2.32.3)\n",
      "Requirement already satisfied: safetensors>=0.4.1 in /usr/local/lib/python3.10/dist-packages (from transformers->-r requirements.txt (line 2)) (0.4.5)\n",
      "Requirement already satisfied: tokenizers<0.20,>=0.19 in /usr/local/lib/python3.10/dist-packages (from transformers->-r requirements.txt (line 2)) (0.19.1)\n",
      "Requirement already satisfied: tqdm>=4.27 in /usr/local/lib/python3.10/dist-packages (from transformers->-r requirements.txt (line 2)) (4.66.5)\n",
      "Requirement already satisfied: typing-inspect>=0.9.0 in /usr/local/lib/python3.10/dist-packages (from marshmallow_dataclass->-r requirements.txt (line 4)) (0.9.0)\n",
      "Requirement already satisfied: typeguard<5,>=4.0 in /usr/local/lib/python3.10/dist-packages (from marshmallow_dataclass->-r requirements.txt (line 4)) (4.3.0)\n",
      "Requirement already satisfied: scipy>=1.3.2 in /usr/local/lib/python3.10/dist-packages (from scikit-learn->-r requirements.txt (line 6)) (1.13.1)\n",
      "Requirement already satisfied: joblib>=1.1.1 in /usr/local/lib/python3.10/dist-packages (from scikit-learn->-r requirements.txt (line 6)) (1.4.2)\n",
      "Requirement already satisfied: threadpoolctl>=2.0.0 in /usr/local/lib/python3.10/dist-packages (from scikit-learn->-r requirements.txt (line 6)) (3.5.0)\n",
      "Requirement already satisfied: psutil in /usr/local/lib/python3.10/dist-packages (from accelerate->-r requirements.txt (line 7)) (5.9.5)\n",
      "Collecting aim-ui==3.27.0 (from aim->-r requirements.txt (line 8))\n",
      "  Downloading aim-ui-3.27.0.tar.gz (31.0 MB)\n",
      "\u001b[2K     \u001b[90m━━━━━━━━━━━━━━━━━━━━━━━━━━━━━━━━━━━━━━━━\u001b[0m \u001b[32m31.0/31.0 MB\u001b[0m \u001b[31m61.5 MB/s\u001b[0m eta \u001b[36m0:00:00\u001b[0m:00:01\u001b[0m00:01\u001b[0m\n",
      "\u001b[?25h  Preparing metadata (setup.py) ... \u001b[?25l\u001b[?25hdone\n",
      "Collecting aimrecords==0.0.7 (from aim->-r requirements.txt (line 8))\n",
      "  Downloading aimrecords-0.0.7-py2.py3-none-any.whl.metadata (2.1 kB)\n",
      "Collecting aimrocks==0.5.* (from aim->-r requirements.txt (line 8))\n",
      "  Downloading aimrocks-0.5.2-cp310-cp310-manylinux_2_24_x86_64.whl.metadata (580 bytes)\n",
      "Requirement already satisfied: cachetools>=4.0.0 in /usr/local/lib/python3.10/dist-packages (from aim->-r requirements.txt (line 8)) (5.5.0)\n",
      "Requirement already satisfied: cryptography>=3.0 in /usr/local/lib/python3.10/dist-packages (from aim->-r requirements.txt (line 8)) (43.0.1)\n",
      "Collecting RestrictedPython>=5.1 (from aim->-r requirements.txt (line 8))\n",
      "  Downloading RestrictedPython-7.4-py3-none-any.whl.metadata (13 kB)\n",
      "Requirement already satisfied: aiofiles>=0.5.0 in /usr/local/lib/python3.10/dist-packages (from aim->-r requirements.txt (line 8)) (22.1.0)\n",
      "Requirement already satisfied: alembic<2,>=1.5.0 in /usr/local/lib/python3.10/dist-packages (from aim->-r requirements.txt (line 8)) (1.14.0)\n",
      "Collecting fastapi<1,>=0.69.0 (from aim->-r requirements.txt (line 8))\n",
      "  Downloading fastapi-0.115.6-py3-none-any.whl.metadata (27 kB)\n",
      "Requirement already satisfied: pytz>=2019.1 in /usr/local/lib/python3.10/dist-packages (from aim->-r requirements.txt (line 8)) (2024.2)\n",
      "Requirement already satisfied: SQLAlchemy>=1.4.1 in /usr/local/lib/python3.10/dist-packages (from aim->-r requirements.txt (line 8)) (2.0.35)\n",
      "Collecting uvicorn<1,>=0.12.0 (from aim->-r requirements.txt (line 8))\n",
      "  Downloading uvicorn-0.34.0-py3-none-any.whl.metadata (6.5 kB)\n",
      "Requirement already satisfied: Pillow>=8.0.0 in /usr/local/lib/python3.10/dist-packages (from aim->-r requirements.txt (line 8)) (10.4.0)\n",
      "Requirement already satisfied: python-dateutil in /usr/local/lib/python3.10/dist-packages (from aim->-r requirements.txt (line 8)) (2.8.2)\n",
      "Requirement already satisfied: websockets in /usr/local/lib/python3.10/dist-packages (from aim->-r requirements.txt (line 8)) (14.1)\n",
      "Requirement already satisfied: boto3 in /usr/local/lib/python3.10/dist-packages (from aim->-r requirements.txt (line 8)) (1.35.83)\n",
      "Collecting base58==2.0.1 (from aimrecords==0.0.7->aim->-r requirements.txt (line 8))\n",
      "  Downloading base58-2.0.1-py3-none-any.whl.metadata (540 bytes)\n",
      "Requirement already satisfied: Mako in /usr/local/lib/python3.10/dist-packages (from alembic<2,>=1.5.0->aim->-r requirements.txt (line 8)) (1.3.8)\n",
      "Requirement already satisfied: cffi>=1.12 in /usr/local/lib/python3.10/dist-packages (from cryptography>=3.0->aim->-r requirements.txt (line 8)) (1.17.1)\n",
      "Collecting starlette<0.42.0,>=0.40.0 (from fastapi<1,>=0.69.0->aim->-r requirements.txt (line 8))\n",
      "  Downloading starlette-0.41.3-py3-none-any.whl.metadata (6.0 kB)\n",
      "Requirement already satisfied: pydantic!=1.8,!=1.8.1,!=2.0.0,!=2.0.1,!=2.1.0,<3.0.0,>=1.7.4 in /usr/local/lib/python3.10/dist-packages (from fastapi<1,>=0.69.0->aim->-r requirements.txt (line 8)) (2.9.2)\n",
      "Requirement already satisfied: MarkupSafe>=2.0 in /usr/local/lib/python3.10/dist-packages (from jinja2->torch->-r requirements.txt (line 1)) (2.1.5)\n",
      "Requirement already satisfied: greenlet!=0.4.17 in /usr/local/lib/python3.10/dist-packages (from SQLAlchemy>=1.4.1->aim->-r requirements.txt (line 8)) (3.1.0)\n",
      "Requirement already satisfied: mypy-extensions>=0.3.0 in /usr/local/lib/python3.10/dist-packages (from typing-inspect>=0.9.0->marshmallow_dataclass->-r requirements.txt (line 4)) (1.0.0)\n",
      "Collecting h11>=0.8 (from uvicorn<1,>=0.12.0->aim->-r requirements.txt (line 8))\n",
      "  Downloading h11-0.14.0-py3-none-any.whl.metadata (8.2 kB)\n",
      "Requirement already satisfied: botocore<1.36.0,>=1.35.83 in /usr/local/lib/python3.10/dist-packages (from boto3->aim->-r requirements.txt (line 8)) (1.35.83)\n",
      "Requirement already satisfied: jmespath<2.0.0,>=0.7.1 in /usr/local/lib/python3.10/dist-packages (from boto3->aim->-r requirements.txt (line 8)) (1.0.1)\n",
      "Requirement already satisfied: s3transfer<0.11.0,>=0.10.0 in /usr/local/lib/python3.10/dist-packages (from boto3->aim->-r requirements.txt (line 8)) (0.10.4)\n",
      "Requirement already satisfied: six>=1.5 in /usr/local/lib/python3.10/dist-packages (from python-dateutil->aim->-r requirements.txt (line 8)) (1.16.0)\n",
      "Requirement already satisfied: charset-normalizer<4,>=2 in /usr/local/lib/python3.10/dist-packages (from requests->transformers->-r requirements.txt (line 2)) (3.3.2)\n",
      "Requirement already satisfied: idna<4,>=2.5 in /usr/local/lib/python3.10/dist-packages (from requests->transformers->-r requirements.txt (line 2)) (3.10)\n",
      "Requirement already satisfied: urllib3<3,>=1.21.1 in /usr/local/lib/python3.10/dist-packages (from requests->transformers->-r requirements.txt (line 2)) (2.2.3)\n",
      "Requirement already satisfied: certifi>=2017.4.17 in /usr/local/lib/python3.10/dist-packages (from requests->transformers->-r requirements.txt (line 2)) (2024.8.30)\n",
      "Requirement already satisfied: mpmath<1.4,>=1.1.0 in /usr/local/lib/python3.10/dist-packages (from sympy->torch->-r requirements.txt (line 1)) (1.3.0)\n",
      "Requirement already satisfied: pycparser in /usr/local/lib/python3.10/dist-packages (from cffi>=1.12->cryptography>=3.0->aim->-r requirements.txt (line 8)) (2.22)\n",
      "Requirement already satisfied: annotated-types>=0.6.0 in /usr/local/lib/python3.10/dist-packages (from pydantic!=1.8,!=1.8.1,!=2.0.0,!=2.0.1,!=2.1.0,<3.0.0,>=1.7.4->fastapi<1,>=0.69.0->aim->-r requirements.txt (line 8)) (0.7.0)\n",
      "Requirement already satisfied: pydantic-core==2.23.4 in /usr/local/lib/python3.10/dist-packages (from pydantic!=1.8,!=1.8.1,!=2.0.0,!=2.0.1,!=2.1.0,<3.0.0,>=1.7.4->fastapi<1,>=0.69.0->aim->-r requirements.txt (line 8)) (2.23.4)\n",
      "Requirement already satisfied: anyio<5,>=3.4.0 in /usr/local/lib/python3.10/dist-packages (from starlette<0.42.0,>=0.40.0->fastapi<1,>=0.69.0->aim->-r requirements.txt (line 8)) (3.7.1)\n",
      "Requirement already satisfied: sniffio>=1.1 in /usr/local/lib/python3.10/dist-packages (from anyio<5,>=3.4.0->starlette<0.42.0,>=0.40.0->fastapi<1,>=0.69.0->aim->-r requirements.txt (line 8)) (1.3.1)\n",
      "Requirement already satisfied: exceptiongroup in /usr/local/lib/python3.10/dist-packages (from anyio<5,>=3.4.0->starlette<0.42.0,>=0.40.0->fastapi<1,>=0.69.0->aim->-r requirements.txt (line 8)) (1.2.2)\n",
      "Downloading marshmallow_dataclass-8.7.1-py3-none-any.whl (19 kB)\n",
      "Downloading aim-3.27.0-cp310-cp310-manylinux_2_28_x86_64.whl (7.1 MB)\n",
      "\u001b[2K   \u001b[90m━━━━━━━━━━━━━━━━━━━━━━━━━━━━━━━━━━━━━━━━\u001b[0m \u001b[32m7.1/7.1 MB\u001b[0m \u001b[31m98.2 MB/s\u001b[0m eta \u001b[36m0:00:00\u001b[0m:00:01\u001b[0m00:01\u001b[0m\n",
      "\u001b[?25hDownloading aimrecords-0.0.7-py2.py3-none-any.whl (28 kB)\n",
      "Downloading aimrocks-0.5.2-cp310-cp310-manylinux_2_24_x86_64.whl (6.1 MB)\n",
      "\u001b[2K   \u001b[90m━━━━━━━━━━━━━━━━━━━━━━━━━━━━━━━━━━━━━━━━\u001b[0m \u001b[32m6.1/6.1 MB\u001b[0m \u001b[31m101.6 MB/s\u001b[0m eta \u001b[36m0:00:00\u001b[0m00:01\u001b[0m\n",
      "\u001b[?25hDownloading base58-2.0.1-py3-none-any.whl (4.3 kB)\n",
      "Downloading loguru-0.7.3-py3-none-any.whl (61 kB)\n",
      "\u001b[2K   \u001b[90m━━━━━━━━━━━━━━━━━━━━━━━━━━━━━━━━━━━━━━━━\u001b[0m \u001b[32m61.6/61.6 kB\u001b[0m \u001b[31m3.9 MB/s\u001b[0m eta \u001b[36m0:00:00\u001b[0m\n",
      "\u001b[?25hDownloading fastapi-0.115.6-py3-none-any.whl (94 kB)\n",
      "\u001b[2K   \u001b[90m━━━━━━━━━━━━━━━━━━━━━━━━━━━━━━━━━━━━━━━━\u001b[0m \u001b[32m94.8/94.8 kB\u001b[0m \u001b[31m7.0 MB/s\u001b[0m eta \u001b[36m0:00:00\u001b[0m\n",
      "\u001b[?25hDownloading RestrictedPython-7.4-py3-none-any.whl (27 kB)\n",
      "Downloading uvicorn-0.34.0-py3-none-any.whl (62 kB)\n",
      "\u001b[2K   \u001b[90m━━━━━━━━━━━━━━━━━━━━━━━━━━━━━━━━━━━━━━━━\u001b[0m \u001b[32m62.3/62.3 kB\u001b[0m \u001b[31m4.4 MB/s\u001b[0m eta \u001b[36m0:00:00\u001b[0m\n",
      "\u001b[?25hDownloading h11-0.14.0-py3-none-any.whl (58 kB)\n",
      "\u001b[2K   \u001b[90m━━━━━━━━━━━━━━━━━━━━━━━━━━━━━━━━━━━━━━━━\u001b[0m \u001b[32m58.3/58.3 kB\u001b[0m \u001b[31m4.1 MB/s\u001b[0m eta \u001b[36m0:00:00\u001b[0m\n",
      "\u001b[?25hDownloading starlette-0.41.3-py3-none-any.whl (73 kB)\n",
      "\u001b[2K   \u001b[90m━━━━━━━━━━━━━━━━━━━━━━━━━━━━━━━━━━━━━━━━\u001b[0m \u001b[32m73.2/73.2 kB\u001b[0m \u001b[31m5.0 MB/s\u001b[0m eta \u001b[36m0:00:00\u001b[0m\n",
      "\u001b[?25hBuilding wheels for collected packages: aim-ui\n",
      "  Building wheel for aim-ui (setup.py) ... \u001b[?25l\u001b[?25hdone\n",
      "  Created wheel for aim-ui: filename=aim_ui-3.27.0-py3-none-any.whl size=31194204 sha256=caa956075bef1ae26193e2fce4687f4f2cbb1b94f4b2db63858340bf44e563d6\n",
      "  Stored in directory: /root/.cache/pip/wheels/ce/54/96/e6bff92696ca330b0ed77288aeabbdeae4097a5469204beaff\n",
      "Successfully built aim-ui\n",
      "Installing collected packages: aimrocks, aim-ui, RestrictedPython, loguru, h11, base58, uvicorn, starlette, marshmallow_dataclass, aimrecords, fastapi, aim\n",
      "Successfully installed RestrictedPython-7.4 aim-3.27.0 aim-ui-3.27.0 aimrecords-0.0.7 aimrocks-0.5.2 base58-2.0.1 fastapi-0.115.6 h11-0.14.0 loguru-0.7.3 marshmallow_dataclass-8.7.1 starlette-0.41.3 uvicorn-0.34.0\n"
     ]
    }
   ],
   "source": [
    "!pip install -r requirements.txt"
   ]
  },
  {
   "cell_type": "markdown",
   "metadata": {},
   "source": [
    "# Run trainig"
   ]
  },
  {
   "cell_type": "code",
   "execution_count": 6,
   "metadata": {
    "execution": {
     "iopub.execute_input": "2024-12-21T17:13:27.460120Z",
     "iopub.status.busy": "2024-12-21T17:13:27.459827Z",
     "iopub.status.idle": "2024-12-21T17:14:01.642521Z",
     "shell.execute_reply": "2024-12-21T17:14:01.641721Z",
     "shell.execute_reply.started": "2024-12-21T17:13:27.460097Z"
    },
    "trusted": true
   },
   "outputs": [
    {
     "name": "stdout",
     "output_type": "stream",
     "text": [
      "\u001b[32m2024-12-21 17:13:33.343\u001b[0m | \u001b[1mINFO    \u001b[0m | \u001b[36mdata_processors.mask_dataset\u001b[0m:\u001b[36mmake_mask\u001b[0m:\u001b[36m11\u001b[0m - \u001b[1mStart masking dataset: train\u001b[0m\n",
      "tokenizer_config.json: 100%|██████████████████| 48.0/48.0 [00:00<00:00, 291kB/s]\n",
      "vocab.txt: 100%|█████████████████████████████| 232k/232k [00:00<00:00, 11.3MB/s]\n",
      "tokenizer.json: 100%|████████████████████████| 466k/466k [00:00<00:00, 29.5MB/s]\n",
      "config.json: 100%|█████████████████████████████| 570/570 [00:00<00:00, 5.82MB/s]\n",
      "/usr/local/lib/python3.10/dist-packages/transformers/tokenization_utils_base.py:1601: FutureWarning: `clean_up_tokenization_spaces` was not set. It will be set to `True` by default. This behavior will be depracted in transformers v4.45, and will be then set to `False` by default. For more details check this issue: https://github.com/huggingface/transformers/issues/31884\n",
      "  warnings.warn(\n",
      "\u001b[32m2024-12-21 17:13:56.511\u001b[0m | \u001b[1mINFO    \u001b[0m | \u001b[36mdata_processors.mask_dataset\u001b[0m:\u001b[36mmake_mask\u001b[0m:\u001b[36m42\u001b[0m - \u001b[1mMasking dataset save to: data/masked/train.pt\u001b[0m\n",
      "\u001b[32m2024-12-21 17:13:57.426\u001b[0m | \u001b[1mINFO    \u001b[0m | \u001b[36mdata_processors.mask_dataset\u001b[0m:\u001b[36mmake_mask\u001b[0m:\u001b[36m11\u001b[0m - \u001b[1mStart masking dataset: test\u001b[0m\n",
      "/usr/local/lib/python3.10/dist-packages/transformers/tokenization_utils_base.py:1601: FutureWarning: `clean_up_tokenization_spaces` was not set. It will be set to `True` by default. This behavior will be depracted in transformers v4.45, and will be then set to `False` by default. For more details check this issue: https://github.com/huggingface/transformers/issues/31884\n",
      "  warnings.warn(\n",
      "\u001b[32m2024-12-21 17:13:59.429\u001b[0m | \u001b[1mINFO    \u001b[0m | \u001b[36mdata_processors.mask_dataset\u001b[0m:\u001b[36mmake_mask\u001b[0m:\u001b[36m42\u001b[0m - \u001b[1mMasking dataset save to: data/masked/test.pt\u001b[0m\n",
      "\u001b[32m2024-12-21 17:13:59.533\u001b[0m | \u001b[1mINFO    \u001b[0m | \u001b[36mdata_processors.mask_dataset\u001b[0m:\u001b[36mmake_mask\u001b[0m:\u001b[36m11\u001b[0m - \u001b[1mStart masking dataset: programming\u001b[0m\n",
      "/usr/local/lib/python3.10/dist-packages/transformers/tokenization_utils_base.py:1601: FutureWarning: `clean_up_tokenization_spaces` was not set. It will be set to `True` by default. This behavior will be depracted in transformers v4.45, and will be then set to `False` by default. For more details check this issue: https://github.com/huggingface/transformers/issues/31884\n",
      "  warnings.warn(\n",
      "\u001b[32m2024-12-21 17:13:59.992\u001b[0m | \u001b[1mINFO    \u001b[0m | \u001b[36mdata_processors.mask_dataset\u001b[0m:\u001b[36mmake_mask\u001b[0m:\u001b[36m42\u001b[0m - \u001b[1mMasking dataset save to: data/masked/programming.pt\u001b[0m\n",
      "\u001b[32m2024-12-21 17:14:00.029\u001b[0m | \u001b[1mINFO    \u001b[0m | \u001b[36mdata_processors.mask_dataset\u001b[0m:\u001b[36mmake_mask\u001b[0m:\u001b[36m11\u001b[0m - \u001b[1mStart masking dataset: gaming\u001b[0m\n",
      "/usr/local/lib/python3.10/dist-packages/transformers/tokenization_utils_base.py:1601: FutureWarning: `clean_up_tokenization_spaces` was not set. It will be set to `True` by default. This behavior will be depracted in transformers v4.45, and will be then set to `False` by default. For more details check this issue: https://github.com/huggingface/transformers/issues/31884\n",
      "  warnings.warn(\n",
      "\u001b[32m2024-12-21 17:14:00.442\u001b[0m | \u001b[1mINFO    \u001b[0m | \u001b[36mdata_processors.mask_dataset\u001b[0m:\u001b[36mmake_mask\u001b[0m:\u001b[36m42\u001b[0m - \u001b[1mMasking dataset save to: data/masked/gaming.pt\u001b[0m\n"
     ]
    }
   ],
   "source": [
    "!python data_processors/dataset.py --config-dataset dataset_params.yaml --config-model model_params.yaml"
   ]
  },
  {
   "cell_type": "code",
   "execution_count": null,
   "metadata": {
    "execution": {
     "execution_failed": "2024-12-21T18:16:45.201Z",
     "iopub.execute_input": "2024-12-21T17:14:04.771373Z",
     "iopub.status.busy": "2024-12-21T17:14:04.771045Z"
    },
    "trusted": true
   },
   "outputs": [],
   "source": [
    "!python train/train.py --tag kaggle-128-0.1"
   ]
  },
  {
   "cell_type": "code",
   "execution_count": 9,
   "metadata": {
    "execution": {
     "iopub.execute_input": "2024-12-21T18:10:57.302698Z",
     "iopub.status.busy": "2024-12-21T18:10:57.302374Z",
     "iopub.status.idle": "2024-12-21T18:10:57.420143Z",
     "shell.execute_reply": "2024-12-21T18:10:57.419272Z",
     "shell.execute_reply.started": "2024-12-21T18:10:57.302673Z"
    },
    "trusted": true
   },
   "outputs": [],
   "source": [
    "!git config --global user.email \"email\""
   ]
  },
  {
   "cell_type": "code",
   "execution_count": 10,
   "metadata": {
    "execution": {
     "iopub.execute_input": "2024-12-21T18:11:00.513807Z",
     "iopub.status.busy": "2024-12-21T18:11:00.513522Z",
     "iopub.status.idle": "2024-12-21T18:11:00.631720Z",
     "shell.execute_reply": "2024-12-21T18:11:00.630745Z",
     "shell.execute_reply.started": "2024-12-21T18:11:00.513782Z"
    },
    "trusted": true
   },
   "outputs": [],
   "source": [
    "!git config --global user.name \"username\""
   ]
  },
  {
   "cell_type": "code",
   "execution_count": 12,
   "metadata": {
    "execution": {
     "iopub.execute_input": "2024-12-21T18:11:06.673856Z",
     "iopub.status.busy": "2024-12-21T18:11:06.673547Z",
     "iopub.status.idle": "2024-12-21T18:11:06.870123Z",
     "shell.execute_reply": "2024-12-21T18:11:06.869374Z",
     "shell.execute_reply.started": "2024-12-21T18:11:06.673830Z"
    },
    "trusted": true
   },
   "outputs": [
    {
     "name": "stdout",
     "output_type": "stream",
     "text": [
      "On branch new-data\n",
      "Your branch is up to date with 'origin/new-data'.\n",
      "\n",
      "Changes to be committed:\n",
      "  (use \"git restore --staged <file>...\" to unstage)\n",
      "\t\u001b[32mnew file:   .aim/check_ins/3171184d93cf474db0056a22-0000000000000001-starting-1734801257.18-00000\u001b[m\n",
      "\t\u001b[32mnew file:   .aim/check_ins/3171184d93cf474db0056a22-0000000000000486-progress-1734803676.58-00001\u001b[m\n",
      "\t\u001b[32mnew file:   .aim/meta/chunks/3171184d93cf474db0056a22/000092.sst\u001b[m\n",
      "\t\u001b[32mnew file:   .aim/meta/chunks/3171184d93cf474db0056a22/000094.sst\u001b[m\n",
      "\t\u001b[32mnew file:   .aim/meta/chunks/3171184d93cf474db0056a22/000095.log\u001b[m\n",
      "\t\u001b[32mnew file:   .aim/meta/chunks/3171184d93cf474db0056a22/000096.sst\u001b[m\n",
      "\t\u001b[32mnew file:   .aim/meta/chunks/3171184d93cf474db0056a22/CURRENT\u001b[m\n",
      "\t\u001b[32mnew file:   .aim/meta/chunks/3171184d93cf474db0056a22/IDENTITY\u001b[m\n",
      "\t\u001b[32mnew file:   .aim/meta/chunks/3171184d93cf474db0056a22/LOCK\u001b[m\n",
      "\t\u001b[32mnew file:   .aim/meta/chunks/3171184d93cf474db0056a22/LOG\u001b[m\n",
      "\t\u001b[32mnew file:   .aim/meta/chunks/3171184d93cf474db0056a22/MANIFEST-000004\u001b[m\n",
      "\t\u001b[32mnew file:   .aim/meta/chunks/3171184d93cf474db0056a22/OPTIONS-000007\u001b[m\n",
      "\t\u001b[32mnew file:   .aim/meta/progress/3171184d93cf474db0056a22\u001b[m\n",
      "\t\u001b[32mmodified:   .aim/run_metadata.sqlite\u001b[m\n",
      "\t\u001b[32mnew file:   .aim/seqs/chunks/3171184d93cf474db0056a22/000211.sst\u001b[m\n",
      "\t\u001b[32mnew file:   .aim/seqs/chunks/3171184d93cf474db0056a22/000213.sst\u001b[m\n",
      "\t\u001b[32mnew file:   .aim/seqs/chunks/3171184d93cf474db0056a22/000215.sst\u001b[m\n",
      "\t\u001b[32mnew file:   .aim/seqs/chunks/3171184d93cf474db0056a22/000217.sst\u001b[m\n",
      "\t\u001b[32mnew file:   .aim/seqs/chunks/3171184d93cf474db0056a22/000219.sst\u001b[m\n",
      "\t\u001b[32mnew file:   .aim/seqs/chunks/3171184d93cf474db0056a22/000220.log\u001b[m\n",
      "\t\u001b[32mnew file:   .aim/seqs/chunks/3171184d93cf474db0056a22/000221.sst\u001b[m\n",
      "\t\u001b[32mnew file:   .aim/seqs/chunks/3171184d93cf474db0056a22/CURRENT\u001b[m\n",
      "\t\u001b[32mnew file:   .aim/seqs/chunks/3171184d93cf474db0056a22/IDENTITY\u001b[m\n",
      "\t\u001b[32mnew file:   .aim/seqs/chunks/3171184d93cf474db0056a22/LOCK\u001b[m\n",
      "\t\u001b[32mnew file:   .aim/seqs/chunks/3171184d93cf474db0056a22/LOG\u001b[m\n",
      "\t\u001b[32mnew file:   .aim/seqs/chunks/3171184d93cf474db0056a22/MANIFEST-000004\u001b[m\n",
      "\t\u001b[32mnew file:   .aim/seqs/chunks/3171184d93cf474db0056a22/OPTIONS-000007\u001b[m\n",
      "\t\u001b[32mnew file:   .aim/seqs/progress/3171184d93cf474db0056a22\u001b[m\n",
      "\n",
      "Changes not staged for commit:\n",
      "  (use \"git add <file>...\" to update what will be committed)\n",
      "  (use \"git restore <file>...\" to discard changes in working directory)\n",
      "\t\u001b[31mmodified:   data/masked/gaming.pt\u001b[m\n",
      "\t\u001b[31mmodified:   data/masked/programming.pt\u001b[m\n",
      "\n",
      "Untracked files:\n",
      "  (use \"git add <file>...\" to include in what will be committed)\n",
      "\t\u001b[31mtrain_results/\u001b[m\n",
      "\n"
     ]
    }
   ],
   "source": [
    "!git status"
   ]
  },
  {
   "cell_type": "code",
   "execution_count": 11,
   "metadata": {
    "execution": {
     "iopub.execute_input": "2024-12-21T18:11:03.169505Z",
     "iopub.status.busy": "2024-12-21T18:11:03.169174Z",
     "iopub.status.idle": "2024-12-21T18:11:03.387021Z",
     "shell.execute_reply": "2024-12-21T18:11:03.385950Z",
     "shell.execute_reply.started": "2024-12-21T18:11:03.169477Z"
    },
    "trusted": true
   },
   "outputs": [],
   "source": [
    "!git add .aim/"
   ]
  },
  {
   "cell_type": "code",
   "execution_count": 13,
   "metadata": {
    "execution": {
     "iopub.execute_input": "2024-12-21T18:11:16.353588Z",
     "iopub.status.busy": "2024-12-21T18:11:16.353245Z",
     "iopub.status.idle": "2024-12-21T18:11:16.565895Z",
     "shell.execute_reply": "2024-12-21T18:11:16.565063Z",
     "shell.execute_reply.started": "2024-12-21T18:11:16.353561Z"
    },
    "trusted": true
   },
   "outputs": [
    {
     "name": "stdout",
     "output_type": "stream",
     "text": [
      "[new-data 2bda668] add kaggle aim 128 10\n",
      " 28 files changed, 3831 insertions(+)\n",
      " create mode 100644 .aim/check_ins/3171184d93cf474db0056a22-0000000000000001-starting-1734801257.18-00000\n",
      " create mode 100644 .aim/check_ins/3171184d93cf474db0056a22-0000000000000486-progress-1734803676.58-00001\n",
      " create mode 100644 .aim/meta/chunks/3171184d93cf474db0056a22/000092.sst\n",
      " create mode 100644 .aim/meta/chunks/3171184d93cf474db0056a22/000094.sst\n",
      " create mode 100644 .aim/meta/chunks/3171184d93cf474db0056a22/000095.log\n",
      " create mode 100644 .aim/meta/chunks/3171184d93cf474db0056a22/000096.sst\n",
      " create mode 100644 .aim/meta/chunks/3171184d93cf474db0056a22/CURRENT\n",
      " create mode 100644 .aim/meta/chunks/3171184d93cf474db0056a22/IDENTITY\n",
      " create mode 100644 .aim/meta/chunks/3171184d93cf474db0056a22/LOCK\n",
      " create mode 100644 .aim/meta/chunks/3171184d93cf474db0056a22/LOG\n",
      " create mode 100644 .aim/meta/chunks/3171184d93cf474db0056a22/MANIFEST-000004\n",
      " create mode 100644 .aim/meta/chunks/3171184d93cf474db0056a22/OPTIONS-000007\n",
      " create mode 100644 .aim/meta/progress/3171184d93cf474db0056a22\n",
      " create mode 100644 .aim/seqs/chunks/3171184d93cf474db0056a22/000211.sst\n",
      " create mode 100644 .aim/seqs/chunks/3171184d93cf474db0056a22/000213.sst\n",
      " create mode 100644 .aim/seqs/chunks/3171184d93cf474db0056a22/000215.sst\n",
      " create mode 100644 .aim/seqs/chunks/3171184d93cf474db0056a22/000217.sst\n",
      " create mode 100644 .aim/seqs/chunks/3171184d93cf474db0056a22/000219.sst\n",
      " create mode 100644 .aim/seqs/chunks/3171184d93cf474db0056a22/000220.log\n",
      " create mode 100644 .aim/seqs/chunks/3171184d93cf474db0056a22/000221.sst\n",
      " create mode 100644 .aim/seqs/chunks/3171184d93cf474db0056a22/CURRENT\n",
      " create mode 100644 .aim/seqs/chunks/3171184d93cf474db0056a22/IDENTITY\n",
      " create mode 100644 .aim/seqs/chunks/3171184d93cf474db0056a22/LOCK\n",
      " create mode 100644 .aim/seqs/chunks/3171184d93cf474db0056a22/LOG\n",
      " create mode 100644 .aim/seqs/chunks/3171184d93cf474db0056a22/MANIFEST-000004\n",
      " create mode 100644 .aim/seqs/chunks/3171184d93cf474db0056a22/OPTIONS-000007\n",
      " create mode 100644 .aim/seqs/progress/3171184d93cf474db0056a22\n"
     ]
    }
   ],
   "source": [
    "!git commit -m 'add kaggle aim'"
   ]
  },
  {
   "cell_type": "code",
   "execution_count": 14,
   "metadata": {
    "execution": {
     "iopub.execute_input": "2024-12-21T18:11:35.000599Z",
     "iopub.status.busy": "2024-12-21T18:11:35.000257Z",
     "iopub.status.idle": "2024-12-21T18:11:36.387188Z",
     "shell.execute_reply": "2024-12-21T18:11:36.386395Z",
     "shell.execute_reply.started": "2024-12-21T18:11:35.000571Z"
    },
    "trusted": true
   },
   "outputs": [
    {
     "name": "stdout",
     "output_type": "stream",
     "text": [
      "Enumerating objects: 39, done.\n",
      "Counting objects: 100% (39/39), done.\n",
      "Delta compression using up to 4 threads\n",
      "Compressing objects: 100% (27/27), done.\n",
      "Writing objects: 100% (30/30), 1.38 MiB | 3.90 MiB/s, done.\n",
      "Total 30 (delta 13), reused 2 (delta 0), pack-reused 0\n",
      "remote: Resolving deltas: 100% (13/13), completed with 5 local objects.\u001b[K\n",
      "To https://github.com/marulyanova/Mixture-of-Experts.git\n",
      "   81de58e..2bda668  new-data -> new-data\n"
     ]
    }
   ],
   "source": [
    "!git push https://<username>:<token>@github.com/marulyanova/Mixture-of-Experts.git branch-name"
   ]
  }
 ],
 "metadata": {
  "kaggle": {
   "accelerator": "nvidiaTeslaT4",
   "dataSources": [],
   "dockerImageVersionId": 30823,
   "isGpuEnabled": true,
   "isInternetEnabled": true,
   "language": "python",
   "sourceType": "notebook"
  },
  "kernelspec": {
   "display_name": "Python 3",
   "language": "python",
   "name": "python3"
  },
  "language_info": {
   "codemirror_mode": {
    "name": "ipython",
    "version": 3
   },
   "file_extension": ".py",
   "mimetype": "text/x-python",
   "name": "python",
   "nbconvert_exporter": "python",
   "pygments_lexer": "ipython3",
   "version": "3.10.12"
  }
 },
 "nbformat": 4,
 "nbformat_minor": 4
}
